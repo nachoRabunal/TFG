{
 "cells": [
  {
   "cell_type": "code",
   "execution_count": 3,
   "id": "first-smith",
   "metadata": {},
   "outputs": [],
   "source": [
    "import matplotlib.pyplot as plot\n",
    "import numpy as np\n",
    "import math\n",
    "from random import random\n",
    "import scipy.stats as sp\n",
    "from matplotlib.colors import BoundaryNorm\n",
    "from matplotlib.ticker import MaxNLocator\n",
    "from sklearn.model_selection import train_test_split"
   ]
  },
  {
   "cell_type": "code",
   "execution_count": 182,
   "id": "joined-functionality",
   "metadata": {},
   "outputs": [],
   "source": [
    "def stimulatedSpikeTrain(firingRate, ms, stimRate, ini, fin):\n",
    "    spkT = []\n",
    "    for i in range(ms):\n",
    "        x = random()\n",
    "        if i >= ini and i <= fin:\n",
    "            if x < stimRate * 0.001:\n",
    "                spkT.append(1)\n",
    "            else:\n",
    "                spkT.append(0)\n",
    "        else:\n",
    "            if x < firingRate * 0.001:\n",
    "                spkT.append(1)\n",
    "            else:\n",
    "                spkT.append(0)\n",
    "    return spkT\n",
    "\n",
    "\n",
    "def generateExperimentData(nTrials, binSize, firingRate, ms, stimRate, ini, fin):\n",
    "    experimentData = []\n",
    "    baselineSpk = []\n",
    "    stimulusSpk = []\n",
    "\n",
    "    for i in range(nTrials):\n",
    "        spkT = stimulatedSpikeTrain(firingRate, ms, stimRate, ini, fin)\n",
    "        experimentData.append(spkT)\n",
    "\n",
    "        for j in range(int(len(spkT) / binSize)):\n",
    "            bin = spkT[j * binSize:(j + 1) * binSize]\n",
    "\n",
    "            if j*binSize >= ini and j*binSize < fin:\n",
    "                stimulusSpk.append(bin.count(1))\n",
    "            else:\n",
    "                baselineSpk.append(bin.count(1))\n",
    "\n",
    "    return experimentData, baselineSpk, stimulusSpk\n",
    "\n",
    "def plotExperimentData(expData, filename):\n",
    "    fig, ax = plot.subplots()\n",
    "    for i in range(len(expData)):\n",
    "        spkTimes = [i for i, x in enumerate(expData[i]) if x == 1]\n",
    "        ax.vlines(spkTimes, i - 0.3, i + 0.3)\n",
    "    ax.set_xlabel('Tiempo (ms)')\n",
    "    ax.set_ylabel('Nº de prueba')\n",
    "    ax.set_title('Tiempos de pulso')\n",
    "    ax.set_xlim([0, len(expData[0])])\n",
    "    plot.axvline(x=1000, color=\"Red\")\n",
    "    plot.axvline(x=1500, color=\"Red\")\n",
    "    #plot.show()\n",
    "    plot.savefig(filename, dpi=300)\n",
    "    plot.clf()"
   ]
  },
  {
   "cell_type": "code",
   "execution_count": 10,
   "id": "exempt-cause",
   "metadata": {},
   "outputs": [],
   "source": [
    "exp, bs, st = generateExperimentData(10, 100, 10, 2000, 35, 1000, 1500)"
   ]
  },
  {
   "cell_type": "code",
   "execution_count": 30,
   "id": "expensive-investigation",
   "metadata": {},
   "outputs": [],
   "source": [
    "def bayesianEstimator(bsSpikes, stSpikes, umbral):\n",
    "    baselineProbs = []\n",
    "    stimulusProbs = []\n",
    "\n",
    "    for i in range(len(stSpikes)):\n",
    "        if i >= 0:\n",
    "            if stSpikes[i] != 0:\n",
    "                if stSpikes[i]/np.sum(stSpikes) >= umbral:\n",
    "                    stimulusProbs.append(stSpikes[i] / np.sum(stSpikes))\n",
    "                    try:\n",
    "                        baselineProbs.append(bsSpikes[i] / np.sum(bsSpikes))\n",
    "                    except IndexError:\n",
    "                        baselineProbs.append(0)\n",
    "\n",
    "    return  1 -  np.prod(baselineProbs)/np.prod(stimulusProbs)"
   ]
  },
  {
   "cell_type": "code",
   "execution_count": 17,
   "id": "incorrect-motor",
   "metadata": {},
   "outputs": [
    {
     "data": {
      "image/png": "[encoded data removed]",
      "text/plain": [
       "<Figure size 432x288 with 1 Axes>"
      ]
     },
     "metadata": {
      "needs_background": "light"
     },
     "output_type": "display_data"
    }
   ],
   "source": [
    "plotExperimentData(exp)"
   ]
  },
  {
   "cell_type": "code",
   "execution_count": 185,
   "id": "possible-showcase",
   "metadata": {},
   "outputs": [
    {
     "name": "stdout",
     "output_type": "stream",
     "text": [
      "1.0\n"
     ]
    }
   ],
   "source": [
    "print(bayesianEstimator(bs, st, 0.05))"
   ]
  },
  {
   "cell_type": "code",
   "execution_count": 158,
   "id": "european-spokesman",
   "metadata": {},
   "outputs": [],
   "source": [
    "exp2, bs2, st2 = generateExperimentData(5, 100, 30, 2000, 35, 1000, 1500)"
   ]
  },
  {
   "cell_type": "code",
   "execution_count": 159,
   "id": "sound-pickup",
   "metadata": {},
   "outputs": [
    {
     "data": {
      "image/png": "[encoded data removed]",
      "text/plain": [
       "<Figure size 432x288 with 1 Axes>"
      ]
     },
     "metadata": {
      "needs_background": "light"
     },
     "output_type": "display_data"
    }
   ],
   "source": [
    "plotExperimentData(exp2)"
   ]
  },
  {
   "cell_type": "code",
   "execution_count": 160,
   "id": "tired-healthcare",
   "metadata": {},
   "outputs": [],
   "source": [
    "def bootstrapData(list, nSamples, sampleSize):\n",
    "    data = []\n",
    "    for i in range(nSamples):\n",
    "        x = np.random.choice(list, size=sampleSize, replace=True)\n",
    "        data.append(x)\n",
    "    return data"
   ]
  },
  {
   "cell_type": "code",
   "execution_count": 161,
   "id": "appointed-services",
   "metadata": {},
   "outputs": [],
   "source": [
    "def bayesianEstimatorBootstrap(bsSpikes, stSpikes, umbral, nSamples):\n",
    "    cotas = []\n",
    "    cotas.append(bayesianEstimator(np.bincount(bsSpikes), np.bincount(stSpikes), umbral))\n",
    "    print(cotas)\n",
    "\n",
    "    bsData = bootstrapData(bsSpikes, nSamples, len(bsSpikes))\n",
    "    stData = bootstrapData(stSpikes, nSamples, len(stSpikes))\n",
    "\n",
    "    for i in range(nSamples):\n",
    "        cotas.append(bayesianEstimator(np.bincount(bsData[i]), np.bincount(stData[i]), umbral))\n",
    "\n",
    "    return np.mean(np.array(cotas)), np.std(np.array(cotas))"
   ]
  },
  {
   "cell_type": "code",
   "execution_count": 162,
   "id": "directed-arrow",
   "metadata": {},
   "outputs": [
    {
     "name": "stdout",
     "output_type": "stream",
     "text": [
      "[0.05692729766803817]\n",
      "(0.7237426266616811, 0.4550140380741333)\n"
     ]
    }
   ],
   "source": [
    "print(bayesianEstimatorBootstrap(bs2, st2, 0.05, 5000))"
   ]
  },
  {
   "cell_type": "code",
   "execution_count": 169,
   "id": "regular-switzerland",
   "metadata": {},
   "outputs": [],
   "source": [
    "prueba2 = []\n",
    "prueba2.append(exp)\n",
    "prueba2.append(bs)\n",
    "prueba2.append(st)"
   ]
  },
  {
   "cell_type": "code",
   "execution_count": null,
   "id": "forbidden-saint",
   "metadata": {},
   "outputs": [],
   "source": [
    "a = np.array(prueba2, dtype='object')\n",
    "print(a)"
   ]
  },
  {
   "cell_type": "code",
   "execution_count": 173,
   "id": "dress-equilibrium",
   "metadata": {},
   "outputs": [],
   "source": [
    "with open('generatedData.npy', 'wb') as f:\n",
    "    np.save(f, np.array(a, dtype=object))"
   ]
  },
  {
   "cell_type": "code",
   "execution_count": 175,
   "id": "other-success",
   "metadata": {},
   "outputs": [],
   "source": [
    "prueba2 = []\n",
    "prueba2.append(exp2)\n",
    "prueba2.append(bs2)\n",
    "prueba2.append(st2)"
   ]
  },
  {
   "cell_type": "code",
   "execution_count": null,
   "id": "thick-clothing",
   "metadata": {},
   "outputs": [],
   "source": [
    "b = np.array(prueba2, dtype='object')\n",
    "print(b)"
   ]
  },
  {
   "cell_type": "code",
   "execution_count": 178,
   "id": "printable-bahamas",
   "metadata": {},
   "outputs": [],
   "source": [
    "with open('generatedDataBoots.npy', 'wb') as f:\n",
    "    np.save(f, np.array(b, dtype=object))"
   ]
  },
  {
   "cell_type": "code",
   "execution_count": 183,
   "id": "smoking-function",
   "metadata": {},
   "outputs": [
    {
     "data": {
      "text/plain": [
       "<Figure size 432x288 with 0 Axes>"
      ]
     },
     "metadata": {},
     "output_type": "display_data"
    }
   ],
   "source": [
    "plotExperimentData(exp, 'generated1035.png')"
   ]
  },
  {
   "cell_type": "code",
   "execution_count": 184,
   "id": "liable-absence",
   "metadata": {},
   "outputs": [
    {
     "data": {
      "text/plain": [
       "<Figure size 432x288 with 0 Axes>"
      ]
     },
     "metadata": {},
     "output_type": "display_data"
    }
   ],
   "source": [
    "plotExperimentData(exp2, 'generated3035.png')"
   ]
  },
  {
   "cell_type": "code",
   "execution_count": 71,
   "id": "painful-dayton",
   "metadata": {},
   "outputs": [],
   "source": [
    "def spikesPerBin(spikes, impulses, binSize, binDelay):\n",
    "    nspikes = []\n",
    "    for impulse in impulses:\n",
    "        n = 0\n",
    "        for spike in spikes:\n",
    "            if float(spike) >= float(impulse)+binDelay and float(spike) < float(impulse)+binSize+binDelay:\n",
    "                n += 1\n",
    "            elif float(spike) >= float(impulse)+binSize+binDelay:\n",
    "                break\n",
    "        nspikes.append(n)\n",
    "        \n",
    "    return np.array(nspikes)"
   ]
  },
  {
   "cell_type": "code",
   "execution_count": 261,
   "id": "compatible-jersey",
   "metadata": {},
   "outputs": [],
   "source": [
    "def loadData(spikeFile, impulseFile, pmax, widthmax, step):\n",
    "    spk = np.loadtxt(spikeFile, delimiter=\" \")\n",
    "    imp = np.loadtxt(impulseFile, delimiter=\" \")\n",
    "    data = []\n",
    "    for i in range(step, widthmax+1, step):\n",
    "        print(\"Vuelta \" + str(i))\n",
    "        for j in range(0, pmax+1, step):\n",
    "            print(\"Subvuelta \" + str(j))\n",
    "            nspikes = spikesPerBin(spk, imp, i, j)\n",
    "            #median = np.median(nspikes)\n",
    "            #kurtosis = sp.kurtosis(nspikes)\n",
    "            hist = np.bincount(nspikes)\n",
    "            #prob1 = hist[1]/np.sum(hist)\n",
    "            data.append([i, j, hist])\n",
    "    \n",
    "    return data"
   ]
  },
  {
   "cell_type": "code",
   "execution_count": null,
   "id": "developing-excellence",
   "metadata": {},
   "outputs": [],
   "source": [
    "#dataC11 = loadData(\"Desktop/Pececillos/data/1_sin_60/C.dat.spkTimes\", \"Desktop/Pececillos/data/1_sin_60/C11.dat.impulseTimes\", 50, 150, 5)\n",
    "#dataW11 = loadData(\"Desktop/Pececillos/data/1_sin_60/W11_recortado.dat.spkTimes\", \"Desktop/Pececillos/data/1_sin_60/W11_recortado.dat.impulseTimes\", 50, 150, 5)\n",
    "#dataC1 = loadData(\"Desktop/Pececillos/data/C.dat.spkTimes\", \"Desktop/Pececillos/data/C1.dat.impulseTimes\", 50, 150, 5)\n",
    "#dataW1 = loadData(\"Desktop/Pececillos/data/W1.dat.spkTimes\", \"Desktop/Pececillos/data/W1.dat.impulseTimes\", 50, 150, 5)\n",
    "\n",
    "dataCA = []\n",
    "dataCB = []\n",
    "spkC = np.loadtxt(\"Desktop/Pececillos/data/1_sin_60/C.dat.spkTimes\", delimiter=\" \")\n",
    "impC = np.loadtxt(\"Desktop/Pececillos/data/1_sin_60/C11.dat.impulseTimes\", delimiter=\" \")\n",
    "for i in range(5, 151, 5):\n",
    "    print(\"Vuelta \" + str(i))\n",
    "    for j in range(0, 51, 5):\n",
    "        print(\"Subvuelta \" + str(j))\n",
    "        nspikesC = spikesPerBin(spkC, impC, i, j)\n",
    "        nsCA, nsCB = train_test_split(nspikesC, test_size = 0.50)\n",
    "        histA = np.bincount(nsCA)\n",
    "        histB = np.bincount(nsCB)\n",
    "        dataCA.append([i, j, histA])\n",
    "        dataCB.append([i, j, histB])"
   ]
  },
  {
   "cell_type": "code",
   "execution_count": null,
   "id": "pending-cambodia",
   "metadata": {},
   "outputs": [],
   "source": [
    "dataC = []\n",
    "for i in range(10, 301, 10):\n",
    "    print(\"Vuelta \" + str(i))\n",
    "    for j in range(0, 101, 10):\n",
    "        print(\"Subvuelta \" + str(j))\n",
    "        nspikesC = spikesPerBin(spkC, impC, i, j)\n",
    "        median = np.median(nspikesC)\n",
    "        kurtosis = sp.kurtosis(nspikesC)\n",
    "        hist = np.bincount(nspikesC)\n",
    "        prob1 = hist[1]/np.sum(hist)\n",
    "        #probGe0Le4 = (hist[1]+hist[2]+hist[3])/np.sum(hist)\n",
    "        dataC.append([i, j, median, kurtosis, prob1, hist])"
   ]
  },
  {
   "cell_type": "code",
   "execution_count": null,
   "id": "specified-chest",
   "metadata": {},
   "outputs": [],
   "source": [
    "spkW11 = np.loadtxt(\"Desktop/Pececillos/methods/W11_recortado.dat.spkTimes\", delimiter=\" \")\n",
    "impW11 = np.loadtxt(\"Desktop/Pececillos/methods/W11_recortado.dat.impulseTimes\", delimiter=\" \")\n",
    "dataW11 = []\n",
    "for i in range(10, 301, 10):\n",
    "    print(\"Vuelta \" + str(i))\n",
    "    for j in range(0, 101, 10):\n",
    "        print(\"Subvuelta \" + str(j))\n",
    "        nspikesC = spikesPerBin(spkW11, impW11, i, j)\n",
    "        median = np.median(nspikesC)\n",
    "        kurtosis = sp.kurtosis(nspikesC)\n",
    "        hist = np.bincount(nspikesC)\n",
    "        prob1 = hist[1]/np.sum(hist)\n",
    "        #probGe0Le4 = (hist[1]+hist[2]+hist[3])/np.sum(hist)\n",
    "        dataW11.append([i, j, median, kurtosis, prob1, hist])"
   ]
  },
  {
   "cell_type": "code",
   "execution_count": 7,
   "id": "favorite-examination",
   "metadata": {},
   "outputs": [],
   "source": [
    "def getZvalues(data, paramNumber):\n",
    "    Z = []\n",
    "    prev = data[0][0]\n",
    "    aux = []\n",
    "    for el in data:\n",
    "        if el[0] == prev:\n",
    "            aux.append(el[paramNumber])\n",
    "        else:\n",
    "            Z.append(aux)\n",
    "            aux = []\n",
    "            aux.append(el[paramNumber])\n",
    "        prev = el[0]\n",
    "\n",
    "    Z.append(aux)\n",
    "    return np.array(Z)"
   ]
  },
  {
   "cell_type": "code",
   "execution_count": 8,
   "id": "circular-glasgow",
   "metadata": {},
   "outputs": [],
   "source": [
    "Z = getZvalues(dataC, 2)\n",
    "Z2 = getZvalues(dataW11, 2)\n",
    "Z3 = np.absolute(Z2-Z)"
   ]
  },
  {
   "cell_type": "code",
   "execution_count": 9,
   "id": "provincial-banks",
   "metadata": {},
   "outputs": [
    {
     "data": {
      "text/plain": [
       "<Figure size 432x288 with 0 Axes>"
      ]
     },
     "metadata": {},
     "output_type": "display_data"
    }
   ],
   "source": [
    "dx, dy = 10, 10\n",
    "y, x = np.mgrid[slice(10, 300 + dy, dy),\n",
    "                slice(0, 100 + dx, dx)]\n",
    "\n",
    "levels = MaxNLocator(nbins=15).tick_values(Z.min(), Z.max())\n",
    "cmap = plot.get_cmap('PiYG')\n",
    "norm = BoundaryNorm(levels, ncolors=cmap.N, clip=True)\n",
    "\n",
    "fig, (ax0, ax1, ax2) = plot.subplots(nrows=3)\n",
    "\n",
    "im = ax0.pcolormesh(y, x, Z, cmap=cmap, norm=norm)\n",
    "fig.colorbar(im, ax=ax0)\n",
    "ax0.set_title('1_sin_60 median C11')\n",
    "\n",
    "levels = MaxNLocator(nbins=15).tick_values(Z2.min(), Z2.max())\n",
    "cmap = plot.get_cmap('PiYG')\n",
    "norm = BoundaryNorm(levels, ncolors=cmap.N, clip=True)\n",
    "\n",
    "im2 = ax1.pcolormesh(y, x, Z2, cmap=cmap, norm=norm)\n",
    "fig.colorbar(im2, ax=ax1)\n",
    "ax1.set_title('1_sin_60 median W11')\n",
    "\n",
    "#Diferencia de medias\n",
    "levels = MaxNLocator(nbins=15).tick_values(Z3.min(), Z3.max())\n",
    "cmap = plot.get_cmap('PiYG')\n",
    "norm = BoundaryNorm(levels, ncolors=cmap.N, clip=True)\n",
    "\n",
    "im3 = ax2.pcolormesh(y, x, Z3, cmap=cmap, norm=norm)\n",
    "fig.colorbar(im3, ax=ax2)\n",
    "ax2.set_title('median W11 vs C11')\n",
    "\n",
    "\n",
    "\n",
    "fig.tight_layout()\n",
    "plot.savefig(\"medianPcolor2.png\", dpi=300)\n",
    "plot.clf()"
   ]
  },
  {
   "cell_type": "code",
   "execution_count": 66,
   "id": "biological-giant",
   "metadata": {},
   "outputs": [
    {
     "data": {
      "text/plain": [
       "<Figure size 432x288 with 0 Axes>"
      ]
     },
     "metadata": {},
     "output_type": "display_data"
    }
   ],
   "source": [
    "Z = getZvalues(dataC, 3)\n",
    "Z2 = getZvalues(dataW11, 3)\n",
    "Z3 = np.absolute(Z2-Z)\n",
    "\n",
    "dx, dy = 10, 10\n",
    "y, x = np.mgrid[slice(10, 300 + dy, dy),\n",
    "                slice(0, 100 + dx, dx)]\n",
    "\n",
    "levels = MaxNLocator(nbins=15).tick_values(Z.min(), Z.max())\n",
    "cmap = plot.get_cmap('PiYG')\n",
    "norm = BoundaryNorm(levels, ncolors=cmap.N, clip=True)\n",
    "\n",
    "fig, (ax0, ax1, ax2) = plot.subplots(nrows=3)\n",
    "\n",
    "im = ax0.pcolormesh(y, x, Z, cmap=cmap, norm=norm)\n",
    "fig.colorbar(im, ax=ax0)\n",
    "ax0.set_title('1_sin_60 kurtosis C11')\n",
    "\n",
    "levels = MaxNLocator(nbins=15).tick_values(Z2.min(), Z2.max())\n",
    "cmap = plot.get_cmap('PiYG')\n",
    "norm = BoundaryNorm(levels, ncolors=cmap.N, clip=True)\n",
    "\n",
    "im2 = ax1.pcolormesh(y, x, Z2, cmap=cmap, norm=norm)\n",
    "fig.colorbar(im2, ax=ax1)\n",
    "ax1.set_title('1_sin_60 kurtosis W11')\n",
    "\n",
    "#Diferencia de medias\n",
    "levels = MaxNLocator(nbins=15).tick_values(Z3.min(), Z3.max())\n",
    "cmap = plot.get_cmap('PiYG')\n",
    "norm = BoundaryNorm(levels, ncolors=cmap.N, clip=True)\n",
    "\n",
    "im3 = ax2.pcolormesh(y, x, Z3, cmap=cmap, norm=norm)\n",
    "fig.colorbar(im3, ax=ax2)\n",
    "ax2.set_title('kurtosis W11 vs C11')\n",
    "\n",
    "\n",
    "\n",
    "fig.tight_layout()\n",
    "plot.savefig(\"kurtosisPcolor.png\", dpi=300)\n",
    "plot.clf()"
   ]
  },
  {
   "cell_type": "code",
   "execution_count": 67,
   "id": "offshore-value",
   "metadata": {},
   "outputs": [
    {
     "data": {
      "text/plain": [
       "<Figure size 432x288 with 0 Axes>"
      ]
     },
     "metadata": {},
     "output_type": "display_data"
    }
   ],
   "source": [
    "Z = getZvalues(dataC, 4)\n",
    "Z2 = getZvalues(dataW11, 4)\n",
    "Z3 = np.absolute(Z2-Z)\n",
    "\n",
    "dx, dy = 10, 10\n",
    "y, x = np.mgrid[slice(10, 300 + dy, dy),\n",
    "                slice(0, 100 + dx, dx)]\n",
    "\n",
    "levels = MaxNLocator(nbins=15).tick_values(Z.min(), Z.max())\n",
    "cmap = plot.get_cmap('PiYG')\n",
    "norm = BoundaryNorm(levels, ncolors=cmap.N, clip=True)\n",
    "\n",
    "fig, (ax0, ax1, ax2) = plot.subplots(nrows=3)\n",
    "\n",
    "im = ax0.pcolormesh(y, x, Z, cmap=cmap, norm=norm)\n",
    "fig.colorbar(im, ax=ax0)\n",
    "ax0.set_title('1_sin_60 prob1 C11')\n",
    "\n",
    "levels = MaxNLocator(nbins=15).tick_values(Z2.min(), Z2.max())\n",
    "cmap = plot.get_cmap('PiYG')\n",
    "norm = BoundaryNorm(levels, ncolors=cmap.N, clip=True)\n",
    "\n",
    "im2 = ax1.pcolormesh(y, x, Z2, cmap=cmap, norm=norm)\n",
    "fig.colorbar(im2, ax=ax1)\n",
    "ax1.set_title('1_sin_60 prob1 W11')\n",
    "\n",
    "#Diferencia de medias\n",
    "levels = MaxNLocator(nbins=15).tick_values(Z3.min(), Z3.max())\n",
    "cmap = plot.get_cmap('PiYG')\n",
    "norm = BoundaryNorm(levels, ncolors=cmap.N, clip=True)\n",
    "\n",
    "im3 = ax2.pcolormesh(y, x, Z3, cmap=cmap, norm=norm)\n",
    "fig.colorbar(im3, ax=ax2)\n",
    "ax2.set_title('prob1 W11 vs C11')\n",
    "\n",
    "\n",
    "\n",
    "fig.tight_layout()\n",
    "plot.savefig(\"prob1Pcolor.png\", dpi=300)\n",
    "plot.clf()"
   ]
  },
  {
   "cell_type": "code",
   "execution_count": 106,
   "id": "sought-maintenance",
   "metadata": {},
   "outputs": [],
   "source": [
    "def pGe0le4(npa):\n",
    "    s = 0\n",
    "    for i in range(len(npa)):\n",
    "        if i > 0 and i < 4:\n",
    "            s += npa[i]\n",
    "\n",
    "    return s/np.sum(npa)  \n",
    "\n",
    "Z = []\n",
    "prev = dataC[0][0]\n",
    "aux = []\n",
    "for el in dataC:\n",
    "    if el[0] == prev:\n",
    "        aux.append(pGe0le4(el[5]))\n",
    "    else:\n",
    "        Z.append(aux)\n",
    "        aux = []\n",
    "        aux.append(pGe0le4(el[5]))\n",
    "    prev = el[0]\n",
    "\n",
    "Z.append(aux)\n",
    "Z = np.array(Z)"
   ]
  },
  {
   "cell_type": "code",
   "execution_count": 107,
   "id": "copyrighted-proceeding",
   "metadata": {},
   "outputs": [],
   "source": [
    "Z2 = []\n",
    "prev = dataW11[0][0]\n",
    "aux = []\n",
    "for el in dataW11:\n",
    "    if el[0] == prev:\n",
    "        aux.append(pGe0le4(el[5]))\n",
    "    else:\n",
    "        Z2.append(aux)\n",
    "        aux = []\n",
    "        aux.append(pGe0le4(el[5]))\n",
    "    prev = el[0]\n",
    "\n",
    "Z2.append(aux)\n",
    "Z2 = np.array(Z2)\n",
    "Z3 = np.absolute(Z2-Z)"
   ]
  },
  {
   "cell_type": "code",
   "execution_count": 108,
   "id": "fifteen-airfare",
   "metadata": {},
   "outputs": [
    {
     "data": {
      "text/plain": [
       "<Figure size 432x288 with 0 Axes>"
      ]
     },
     "metadata": {},
     "output_type": "display_data"
    }
   ],
   "source": [
    "dx, dy = 10, 10\n",
    "y, x = np.mgrid[slice(10, 300 + dy, dy),\n",
    "                slice(0, 100 + dx, dx)]\n",
    "\n",
    "levels = MaxNLocator(nbins=15).tick_values(Z.min(), Z.max())\n",
    "cmap = plot.get_cmap('PiYG')\n",
    "norm = BoundaryNorm(levels, ncolors=cmap.N, clip=True)\n",
    "\n",
    "fig, (ax0, ax1, ax2) = plot.subplots(nrows=3)\n",
    "\n",
    "im = ax0.pcolormesh(y, x, Z, cmap=cmap, norm=norm)\n",
    "fig.colorbar(im, ax=ax0)\n",
    "ax0.set_title('1_sin_60 pGe0le4 C11')\n",
    "\n",
    "levels = MaxNLocator(nbins=15).tick_values(Z2.min(), Z2.max())\n",
    "cmap = plot.get_cmap('PiYG')\n",
    "norm = BoundaryNorm(levels, ncolors=cmap.N, clip=True)\n",
    "\n",
    "im2 = ax1.pcolormesh(y, x, Z2, cmap=cmap, norm=norm)\n",
    "fig.colorbar(im2, ax=ax1)\n",
    "ax1.set_title('1_sin_60 pGe0le4 W11')\n",
    "\n",
    "#Diferencia de medias\n",
    "levels = MaxNLocator(nbins=15).tick_values(Z3.min(), Z3.max())\n",
    "cmap = plot.get_cmap('PiYG')\n",
    "norm = BoundaryNorm(levels, ncolors=cmap.N, clip=True)\n",
    "\n",
    "im3 = ax2.pcolormesh(y, x, Z3, cmap=cmap, norm=norm)\n",
    "fig.colorbar(im3, ax=ax2)\n",
    "ax2.set_title('pGe0le4 W11 vs C11')\n",
    "\n",
    "\n",
    "\n",
    "fig.tight_layout()\n",
    "plot.savefig(\"prob0-4Pcolor.png\", dpi=300)\n",
    "plot.clf()"
   ]
  },
  {
   "cell_type": "code",
   "execution_count": 16,
   "id": "professional-neutral",
   "metadata": {},
   "outputs": [],
   "source": [
    "def bayesianEstimator(bsSpikes, stSpikes):\n",
    "    baselineProbs = []\n",
    "    stimulusProbs = []\n",
    "\n",
    "    for i in range(len(stSpikes)):\n",
    "        if i < 6:\n",
    "            if stSpikes[i] != 0:\n",
    "                baselineProbs.append(bsSpikes[i] / np.sum(bsSpikes))\n",
    "                stimulusProbs.append(stSpikes[i] / np.sum(stSpikes))\n",
    "    \n",
    "    print(baselineProbs)\n",
    "    print(stimulusProbs)\n",
    "\n",
    "    np.seterr('raise')\n",
    "    baselineProbs = np.array(baselineProbs, dtype=np.float64)\n",
    "    stimulusProbs = np.array(stimulusProbs, dtype=np.float64)\n",
    "    y = np.prod(stimulusProbs)\n",
    "    x = np.prod(baselineProbs)\n",
    "    print(1-x/y)\n",
    "\n",
    "    return  1 -  x/y"
   ]
  },
  {
   "cell_type": "code",
   "execution_count": 133,
   "id": "clean-newport",
   "metadata": {},
   "outputs": [
    {
     "data": {
      "image/png": "[encoded data removed]",
      "text/plain": [
       "<Figure size 432x288 with 1 Axes>"
      ]
     },
     "metadata": {
      "needs_background": "light"
     },
     "output_type": "display_data"
    }
   ],
   "source": [
    "alphab = ['0', '1', '2', '3', '4', '5','6','7','8']\n",
    "frequenciesC = [23,711,539,117,38 ,29,26,12,5]\n",
    "total = np.sum(np.array(frequenciesC))\n",
    "frequenciesC = frequenciesC/total\n",
    "\n",
    "pos = np.arange(len(alphab))\n",
    "ax = plot.axes()\n",
    "ax.set_xticks(pos)\n",
    "ax.set_xticklabels(alphab)\n",
    "\n",
    "plot.bar(pos, frequenciesC, width, color='r', edgecolor='black')\n",
    "plot.show()"
   ]
  },
  {
   "cell_type": "code",
   "execution_count": 134,
   "id": "altered-annotation",
   "metadata": {},
   "outputs": [
    {
     "data": {
      "image/png": "[encoded data removed]",
      "text/plain": [
       "<Figure size 432x288 with 1 Axes>"
      ]
     },
     "metadata": {
      "needs_background": "light"
     },
     "output_type": "display_data"
    }
   ],
   "source": [
    "\n",
    "alphab = ['0', '1', '2', '3', '4', '5','6','7','8']\n",
    "frequenciesW11 = [341,1163,647,329,147,50,10,1,3]\n",
    "total = np.sum(np.array(frequenciesW11))\n",
    "frequenciesW11 = frequenciesW11/total\n",
    "\n",
    "pos = np.arange(len(alphab))\n",
    "ax = plot.axes()\n",
    "ax.set_xticks(pos)\n",
    "ax.set_xticklabels(alphab)\n",
    "\n",
    "plot.bar(pos, frequenciesW11, width, color='r', edgecolor='black')\n",
    "plot.show()"
   ]
  },
  {
   "cell_type": "code",
   "execution_count": 45,
   "id": "clear-assignment",
   "metadata": {},
   "outputs": [
    {
     "name": "stdout",
     "output_type": "stream",
     "text": [
      "4.388435183986987e-08\n",
      "1.5147645580300604e-09\n",
      "28.971071185439623\n"
     ]
    }
   ],
   "source": [
    "x = np.prod(frequenciesC)\n",
    "y = np.prod(frequenciesW11)\n",
    "print(x)\n",
    "print(y)\n",
    "print(x/y)"
   ]
  },
  {
   "cell_type": "code",
   "execution_count": 56,
   "id": "fleet-vaccine",
   "metadata": {},
   "outputs": [],
   "source": [
    "def bayesianEstimatorProb1(bsSpikes, stSpikes):\n",
    "    x = bsSpikes[1]/np.sum(bsSpikes)\n",
    "    y = stSpikes[1]/np.sum(stSpikes)\n",
    "    #print(x)\n",
    "    #print(y)\n",
    "\n",
    "    return  1 -  x/y"
   ]
  },
  {
   "cell_type": "code",
   "execution_count": 51,
   "id": "proprietary-pointer",
   "metadata": {},
   "outputs": [
    {
     "name": "stdout",
     "output_type": "stream",
     "text": [
      "0.5315420560747663\n",
      "0.466740988480119\n",
      "-0.13883731918566555\n"
     ]
    }
   ],
   "source": [
    "print(bayesianEstimatorProb1(frequenciesC, frequenciesW11))"
   ]
  },
  {
   "cell_type": "code",
   "execution_count": 52,
   "id": "every-garlic",
   "metadata": {},
   "outputs": [],
   "source": [
    "def bayesianEstimatorMax(bsSpikes, stSpikes):\n",
    "    index = np.argmax(stSpikes)\n",
    "    \n",
    "    x = bsSpikes[index]/np.sum(bsSpikes)\n",
    "    y = stSpikes[index]/np.sum(stSpikes)\n",
    "    print(x)\n",
    "    print(y)\n",
    "\n",
    "    return  1 -  x/y"
   ]
  },
  {
   "cell_type": "code",
   "execution_count": 53,
   "id": "infinite-sleeve",
   "metadata": {},
   "outputs": [
    {
     "name": "stdout",
     "output_type": "stream",
     "text": [
      "0.5315420560747663\n",
      "0.466740988480119\n",
      "-0.13883731918566555\n"
     ]
    }
   ],
   "source": [
    "print(bayesianEstimatorMax(frequenciesC, frequenciesW11))"
   ]
  },
  {
   "cell_type": "code",
   "execution_count": 57,
   "id": "small-theater",
   "metadata": {},
   "outputs": [],
   "source": [
    "Z = []\n",
    "prev = dataW11[0][0]\n",
    "aux = []\n",
    "for i in range(len(dataW11)):\n",
    "    if dataW11[i][0] == prev:\n",
    "        aux.append(bayesianEstimatorProb1(dataC[i][5],dataW11[i][5]))\n",
    "    else:\n",
    "        Z.append(aux)\n",
    "        aux = []\n",
    "        aux.append(bayesianEstimatorProb1(dataC[i][5],dataW11[i][5]))\n",
    "    prev = dataW11[i][0]\n",
    "\n",
    "Z.append(aux)\n",
    "Z = np.array(Z)"
   ]
  },
  {
   "cell_type": "code",
   "execution_count": 59,
   "id": "informative-major",
   "metadata": {},
   "outputs": [
    {
     "data": {
      "text/plain": [
       "<Figure size 432x288 with 0 Axes>"
      ]
     },
     "metadata": {},
     "output_type": "display_data"
    }
   ],
   "source": [
    "from matplotlib.colors import BoundaryNorm\n",
    "from matplotlib.ticker import MaxNLocator\n",
    "\n",
    "dx, dy = 10, 10\n",
    "y, x = np.mgrid[slice(10, 300 + dy, dy),\n",
    "                slice(0, 100 + dx, dx)]\n",
    "\n",
    "levels = MaxNLocator(nbins=15).tick_values(Z.min(), Z.max())\n",
    "cmap = plot.get_cmap('PiYG')\n",
    "norm = BoundaryNorm(levels, ncolors=cmap.N, clip=True)\n",
    "\n",
    "fig, (ax0) = plot.subplots(nrows=1)\n",
    "\n",
    "im = ax0.pcolormesh(y, x, Z, cmap=cmap, norm=norm)\n",
    "fig.colorbar(im, ax=ax0)\n",
    "ax0.set_title('1_sin_60 bayesianEstimateProb1 W11')\n",
    "\n",
    "\n",
    "\n",
    "fig.tight_layout()\n",
    "plot.savefig(\"1_sin_60_W11.png\", dpi=300)\n",
    "plot.clf()"
   ]
  },
  {
   "cell_type": "code",
   "execution_count": null,
   "id": "regulation-train",
   "metadata": {},
   "outputs": [],
   "source": [
    "Z = []\n",
    "prev = dataW11[0][0]\n",
    "aux = []\n",
    "for i in range(len(dataW11)):\n",
    "    if dataW11[i][0] == prev:\n",
    "        aux.append(bayesianEstimatorMax(dataC[i][5],dataW11[i][5]))\n",
    "    else:\n",
    "        Z.append(aux)\n",
    "        aux = []\n",
    "        aux.append(bayesianEstimatorMax(dataC[i][5],dataW11[i][5]))\n",
    "    prev = dataW11[i][0]\n",
    "\n",
    "Z.append(aux)\n",
    "Z = np.array(Z)\n",
    "\n",
    "dx, dy = 10, 10\n",
    "y, x = np.mgrid[slice(10, 300 + dy, dy),\n",
    "                slice(0, 100 + dx, dx)]\n",
    "\n",
    "levels = MaxNLocator(nbins=15).tick_values(Z.min(), Z.max())\n",
    "cmap = plot.get_cmap('PiYG')\n",
    "norm = BoundaryNorm(levels, ncolors=cmap.N, clip=True)\n",
    "\n",
    "fig, (ax0) = plot.subplots(nrows=1)\n",
    "\n",
    "im = ax0.pcolormesh(y, x, Z, cmap=cmap, norm=norm)\n",
    "fig.colorbar(im, ax=ax0)\n",
    "ax0.set_title('1_sin_60 bayesianEstimateMax W11')\n",
    "\n",
    "\n",
    "\n",
    "fig.tight_layout()\n",
    "plot.savefig(\"estimateMax.png\", dpi=300)\n",
    "plot.clf()"
   ]
  },
  {
   "cell_type": "code",
   "execution_count": 63,
   "id": "dominant-trinidad",
   "metadata": {},
   "outputs": [],
   "source": [
    "def bayesianEstimatorMaxNeighbours(bsSpikes, stSpikes):\n",
    "    index = np.argmax(stSpikes)\n",
    "    bsProbs = []\n",
    "    stProbs = []\n",
    "    bsProbs.append(bsSpikes[index]/np.sum(bsSpikes))\n",
    "    stProbs.append(stSpikes[index]/np.sum(stSpikes))\n",
    "    \n",
    "    try:\n",
    "        bsProbs.append(bsSpikes[index+1]/np.sum(bsSpikes))\n",
    "    except:\n",
    "        pass\n",
    "    try:\n",
    "        stProbs.append(stSpikes[index+1]/np.sum(stSpikes))\n",
    "    except:\n",
    "        pass\n",
    "    try:\n",
    "        bsProbs.append(bsSpikes[index-1]/np.sum(bsSpikes))\n",
    "    except:\n",
    "        pass\n",
    "    try:\n",
    "        stProbs.append(stSpikes[index-1]/np.sum(stSpikes))\n",
    "    except:\n",
    "        pass    \n",
    "    print(bsProbs)\n",
    "    print(stProbs)\n",
    "\n",
    "    return  1 -  np.prod(bsProbs)/np.prod(stProbs)"
   ]
  },
  {
   "cell_type": "code",
   "execution_count": null,
   "id": "assisted-electric",
   "metadata": {},
   "outputs": [],
   "source": [
    "Z = []\n",
    "prev = dataW11[0][0]\n",
    "aux = []\n",
    "for i in range(len(dataW11)):\n",
    "    if dataW11[i][0] == prev:\n",
    "        aux.append(bayesianEstimatorMaxNeighbours(dataC[i][5],dataW11[i][5]))\n",
    "    else:\n",
    "        Z.append(aux)\n",
    "        aux = []\n",
    "        aux.append(bayesianEstimatorMaxNeighbours(dataC[i][5],dataW11[i][5]))\n",
    "    prev = dataW11[i][0]\n",
    "\n",
    "Z.append(aux)\n",
    "Z = np.array(Z)\n",
    "\n",
    "dx, dy = 10, 10\n",
    "y, x = np.mgrid[slice(10, 300 + dy, dy),\n",
    "                slice(0, 100 + dx, dx)]\n",
    "\n",
    "levels = MaxNLocator(nbins=15).tick_values(0, Z.max())\n",
    "cmap = plot.get_cmap('PiYG')\n",
    "norm = BoundaryNorm(levels, ncolors=cmap.N, clip=True)\n",
    "\n",
    "fig, (ax0) = plot.subplots(nrows=1)\n",
    "\n",
    "im = ax0.pcolormesh(y, x, Z, cmap=cmap, norm=norm)\n",
    "fig.colorbar(im, ax=ax0)\n",
    "ax0.set_title('1_sin_60 bayesMaxNeighbours W11')\n",
    "\n",
    "\n",
    "\n",
    "fig.tight_layout()\n",
    "plot.savefig(\"prueba.png\", dpi=300)\n",
    "plot.clf()"
   ]
  },
  {
   "cell_type": "code",
   "execution_count": 68,
   "id": "guided-billy",
   "metadata": {},
   "outputs": [
    {
     "name": "stdout",
     "output_type": "stream",
     "text": [
      "[0.5940420560747663, 0.36740654205607476, 0.005257009345794392]\n",
      "[0.6339650687476774, 0.3455964325529543, 0.0003716090672612412]\n",
      "-13.092302100247961\n"
     ]
    }
   ],
   "source": [
    "print(bayesianEstimatorMaxNeighbours([1017,629,57,9], [1706,930,54,1]))"
   ]
  },
  {
   "cell_type": "code",
   "execution_count": 81,
   "id": "incorporate-premises",
   "metadata": {},
   "outputs": [
    {
     "data": {
      "text/plain": [
       "<Figure size 432x288 with 0 Axes>"
      ]
     },
     "metadata": {},
     "output_type": "display_data"
    }
   ],
   "source": [
    "def bayesianEstimator(bsSpikes, stSpikes):\n",
    "    baselineProbs = []\n",
    "    stimulusProbs = []\n",
    "\n",
    "    for i in range(len(stSpikes)):\n",
    "        if stSpikes[i] != 0:\n",
    "            try:\n",
    "                baselineProbs.append(bsSpikes[i] / np.sum(bsSpikes))\n",
    "            except IndexError:\n",
    "                baselineProbs.append(0)\n",
    "            stimulusProbs.append(stSpikes[i] / np.sum(stSpikes))\n",
    "                \n",
    "    y = np.prod(stimulusProbs)\n",
    "    x = np.prod(baselineProbs)\n",
    "    #print(1-x/y)\n",
    "\n",
    "    return  1 -  x/y\n",
    "\n",
    "Z = []\n",
    "prev = dataW11[0][0]\n",
    "aux = []\n",
    "for i in range(len(dataW11)):\n",
    "    if dataW11[i][0] == prev:\n",
    "        aux.append(bayesianEstimator(dataC[i][5],dataW11[i][5]))\n",
    "    else:\n",
    "        Z.append(aux)\n",
    "        aux = []\n",
    "        aux.append(bayesianEstimator(dataC[i][5],dataW11[i][5]))\n",
    "    prev = dataW11[i][0]\n",
    "\n",
    "Z.append(aux)\n",
    "Z = np.array(Z)\n",
    "\n",
    "dx, dy = 10, 10\n",
    "y, x = np.mgrid[slice(10, 300 + dy, dy),\n",
    "                slice(0, 100 + dx, dx)]\n",
    "\n",
    "levels = MaxNLocator(nbins=15).tick_values(0, Z.max())\n",
    "cmap = plot.get_cmap('PiYG')\n",
    "norm = BoundaryNorm(levels, ncolors=cmap.N, clip=True)\n",
    "\n",
    "fig, (ax0) = plot.subplots(nrows=1)\n",
    "\n",
    "im = ax0.pcolormesh(y, x, Z, cmap=cmap, norm=norm)\n",
    "fig.colorbar(im, ax=ax0)\n",
    "ax0.set_title('1_sin_60 bayes W11')\n",
    "\n",
    "\n",
    "\n",
    "fig.tight_layout()\n",
    "plot.savefig(\"all_estimate_0min.png\", dpi=300)\n",
    "plot.clf()"
   ]
  },
  {
   "cell_type": "code",
   "execution_count": 125,
   "id": "local-geometry",
   "metadata": {},
   "outputs": [
    {
     "data": {
      "text/plain": [
       "<Figure size 432x288 with 0 Axes>"
      ]
     },
     "metadata": {},
     "output_type": "display_data"
    }
   ],
   "source": [
    "Z = []\n",
    "prev = dataW11[0][0]\n",
    "aux = []\n",
    "for i in range(len(dataW11)):\n",
    "    if dataW11[i][0] == prev:\n",
    "        aux.append(bayesianEstimator(dataC[i][5],dataW11[i][5], 0.1))\n",
    "    else:\n",
    "        Z.append(aux)\n",
    "        aux = []\n",
    "        aux.append(bayesianEstimator(dataC[i][5],dataW11[i][5], 0.05))\n",
    "    prev = dataW11[i][0]\n",
    "\n",
    "Z.append(aux)\n",
    "Z = np.array(Z)\n",
    "\n",
    "dx, dy = 10, 10\n",
    "y, x = np.mgrid[slice(10, 300 + dy, dy),\n",
    "                slice(0, 100 + dx, dx)]\n",
    "\n",
    "levels = MaxNLocator(nbins=15).tick_values(Z.min(), Z.max())\n",
    "cmap = plot.get_cmap('PiYG')\n",
    "norm = BoundaryNorm(levels, ncolors=cmap.N, clip=True)\n",
    "\n",
    "fig, (ax0) = plot.subplots(nrows=1)\n",
    "\n",
    "im = ax0.pcolormesh(y, x, Z, cmap=cmap, norm=norm)\n",
    "fig.colorbar(im, ax=ax0)\n",
    "ax0.set_title('1_sin_60 bayes W11')\n",
    "\n",
    "\n",
    "\n",
    "fig.tight_layout()\n",
    "plot.savefig(\"prueba10percent.png\", dpi=300)\n",
    "plot.clf()"
   ]
  },
  {
   "cell_type": "code",
   "execution_count": 100,
   "id": "soviet-standing",
   "metadata": {},
   "outputs": [
    {
     "name": "stdout",
     "output_type": "stream",
     "text": [
      "0\n",
      "1\n",
      "[0.5940420560747663, 0.36740654205607476]\n",
      "[0.6339650687476774, 0.3455964325529543]\n",
      "0.003839085196560066\n"
     ]
    }
   ],
   "source": [
    "print(bayesianEstimator([1017,629,57,9], [1706,930,54,1], 0.1))"
   ]
  },
  {
   "cell_type": "code",
   "execution_count": 108,
   "id": "forbidden-madagascar",
   "metadata": {},
   "outputs": [
    {
     "name": "stdout",
     "output_type": "stream",
     "text": [
      "[1.08925049e+02 4.83187958e+02 7.12518982e+02 ... 6.98929188e+05\n",
      " 6.99209938e+05 6.99443875e+05]\n"
     ]
    }
   ],
   "source": [
    "print(impW11)"
   ]
  },
  {
   "cell_type": "code",
   "execution_count": 109,
   "id": "prime-trace",
   "metadata": {},
   "outputs": [],
   "source": [
    "diffs = np.ediff1d(impW11)"
   ]
  },
  {
   "cell_type": "code",
   "execution_count": 118,
   "id": "photographic-pressing",
   "metadata": {},
   "outputs": [],
   "source": [
    "diffs = np.ediff1d(impW11)\n",
    "dif = []\n",
    "for el in diffs:\n",
    "    if el < 500:\n",
    "        dif.append(el)\n"
   ]
  },
  {
   "cell_type": "code",
   "execution_count": 115,
   "id": "minute-edinburgh",
   "metadata": {},
   "outputs": [
    {
     "data": {
      "text/plain": [
       "[<matplotlib.lines.Line2D at 0x1d305764828>]"
      ]
     },
     "execution_count": 115,
     "metadata": {},
     "output_type": "execute_result"
    },
    {
     "data": {
      "image/png": "[encoded data removed]",
      "text/plain": [
       "<Figure size 432x288 with 1 Axes>"
      ]
     },
     "metadata": {
      "needs_background": "light"
     },
     "output_type": "display_data"
    }
   ],
   "source": [
    "plot.plot(diffs)"
   ]
  },
  {
   "cell_type": "code",
   "execution_count": 291,
   "id": "brief-protest",
   "metadata": {},
   "outputs": [
    {
     "ename": "NameError",
     "evalue": "name 'dif' is not defined",
     "output_type": "error",
     "traceback": [
      "\u001b[1;31m---------------------------------------------------------------------------\u001b[0m",
      "\u001b[1;31mNameError\u001b[0m                                 Traceback (most recent call last)",
      "\u001b[1;32m<ipython-input-291-7a86658c8ca1>\u001b[0m in \u001b[0;36m<module>\u001b[1;34m\u001b[0m\n\u001b[1;32m----> 1\u001b[1;33m \u001b[0mplot\u001b[0m\u001b[1;33m.\u001b[0m\u001b[0mhist\u001b[0m\u001b[1;33m(\u001b[0m\u001b[0mdif\u001b[0m\u001b[1;33m,\u001b[0m \u001b[0mbins\u001b[0m\u001b[1;33m=\u001b[0m\u001b[1;36m100\u001b[0m\u001b[1;33m,\u001b[0m\u001b[0mdensity\u001b[0m\u001b[1;33m=\u001b[0m\u001b[1;32mTrue\u001b[0m\u001b[1;33m,\u001b[0m \u001b[0mstacked\u001b[0m\u001b[1;33m=\u001b[0m\u001b[1;32mTrue\u001b[0m\u001b[1;33m,\u001b[0m\u001b[0mec\u001b[0m\u001b[1;33m=\u001b[0m\u001b[1;34m'k'\u001b[0m\u001b[1;33m)\u001b[0m\u001b[1;33m\u001b[0m\u001b[0m\n\u001b[0m\u001b[0;32m      2\u001b[0m \u001b[0mplot\u001b[0m\u001b[1;33m.\u001b[0m\u001b[0msavefig\u001b[0m\u001b[1;33m(\u001b[0m\u001b[1;34m'hist_tiempo_entre_estimulaciones.png'\u001b[0m\u001b[1;33m)\u001b[0m\u001b[1;33m\u001b[0m\u001b[0m\n\u001b[0;32m      3\u001b[0m \u001b[1;33m\u001b[0m\u001b[0m\n",
      "\u001b[1;31mNameError\u001b[0m: name 'dif' is not defined"
     ]
    }
   ],
   "source": [
    "\n",
    "plot.hist(dif, bins=100,density=True, stacked=True,ec='k')\n",
    "plot.savefig('hist_tiempo_entre_estimulaciones.png')\n",
    "\n"
   ]
  },
  {
   "cell_type": "code",
   "execution_count": 122,
   "id": "funded-score",
   "metadata": {},
   "outputs": [
    {
     "data": {
      "text/plain": [
       "<Figure size 432x288 with 0 Axes>"
      ]
     },
     "metadata": {},
     "output_type": "display_data"
    }
   ],
   "source": [
    "plot.clf()"
   ]
  },
  {
   "cell_type": "code",
   "execution_count": 129,
   "id": "twelve-technique",
   "metadata": {},
   "outputs": [
    {
     "data": {
      "text/plain": [
       "<Figure size 432x288 with 0 Axes>"
      ]
     },
     "metadata": {},
     "output_type": "display_data"
    }
   ],
   "source": [
    "plot.clf()\n",
    "sp.gaussian_kde(dif)\n",
    "plot.show()"
   ]
  },
  {
   "cell_type": "code",
   "execution_count": 141,
   "id": "interim-identifier",
   "metadata": {},
   "outputs": [
    {
     "name": "stdout",
     "output_type": "stream",
     "text": [
      "0\n",
      "1\n",
      "2\n",
      "3\n",
      "0.8734600827342917\n"
     ]
    }
   ],
   "source": [
    "print(bayesianEstimator([23,711,539,117,38 ,29,26,12,5],[341,1163,647,329,147,50,10,1,3], 0.1))"
   ]
  },
  {
   "cell_type": "code",
   "execution_count": null,
   "id": "offensive-henry",
   "metadata": {},
   "outputs": [],
   "source": [
    "dataC1 = loadData(\"Desktop/Pececillos/data/C.dat.spkTimes\", \"Desktop/Pececillos/data/C1.dat.impulseTimes\", 50, 150, 5)\n",
    "dataW1 = loadData(\"Desktop/Pececillos/data/W1.dat.spkTimes\", \"Desktop/Pececillos/data/W1.dat.impulseTimes\", 50, 150, 5)"
   ]
  },
  {
   "cell_type": "code",
   "execution_count": 166,
   "id": "activated-league",
   "metadata": {},
   "outputs": [],
   "source": [
    "from sklearn.model_selection import train_test_split"
   ]
  },
  {
   "cell_type": "code",
   "execution_count": 167,
   "id": "rough-calibration",
   "metadata": {},
   "outputs": [],
   "source": [
    "train, test = train_test_split([1,2,3,4,5,6,7,8,9,10], test_size = 0.50)"
   ]
  },
  {
   "cell_type": "code",
   "execution_count": 168,
   "id": "aggregate-publication",
   "metadata": {},
   "outputs": [
    {
     "name": "stdout",
     "output_type": "stream",
     "text": [
      "[5, 9, 3, 6, 2]\n"
     ]
    }
   ],
   "source": [
    "print(train)"
   ]
  },
  {
   "cell_type": "code",
   "execution_count": 169,
   "id": "raised-collectible",
   "metadata": {},
   "outputs": [
    {
     "name": "stdout",
     "output_type": "stream",
     "text": [
      "[7, 10, 8, 4, 1]\n"
     ]
    }
   ],
   "source": [
    "print(test)"
   ]
  },
  {
   "cell_type": "code",
   "execution_count": 173,
   "id": "german-viewer",
   "metadata": {},
   "outputs": [
    {
     "name": "stdout",
     "output_type": "stream",
     "text": [
      "[1 0 0 ... 2 1 0]\n"
     ]
    }
   ],
   "source": [
    "print(spikesPerBin(spkC, impC, 150, 10))"
   ]
  },
  {
   "cell_type": "code",
   "execution_count": null,
   "id": "confirmed-examination",
   "metadata": {},
   "outputs": [],
   "source": [
    "dataCA = []\n",
    "dataCB = []\n",
    "for i in range(5, 151, 5):\n",
    "    print(\"Vuelta \" + str(i))\n",
    "    for j in range(0, 51, 5):\n",
    "        print(\"Subvuelta \" + str(j))\n",
    "        nspikesC = spikesPerBin(spkC, impC, i, j)\n",
    "        nsCA, nsCB = train_test_split(nspikesC, test_size = 0.50)\n",
    "        histA = np.bincount(nsCA)\n",
    "        histB = np.bincount(nsCB)\n",
    "        dataCA.append([i, j, histA])\n",
    "        dataCB.append([i, j, histB])"
   ]
  },
  {
   "cell_type": "code",
   "execution_count": 217,
   "id": "level-austria",
   "metadata": {},
   "outputs": [],
   "source": [
    "def getHist(data, wLen, delay):\n",
    "    for el in data:\n",
    "        if el[0] == wLen and el[1] == delay:\n",
    "            hist = el[-1]\n",
    "    return hist   "
   ]
  },
  {
   "cell_type": "code",
   "execution_count": 218,
   "id": "metropolitan-cylinder",
   "metadata": {},
   "outputs": [],
   "source": [
    "def printHist(hist):\n",
    "    alphab = []\n",
    "    for i in range(len(hist)):\n",
    "        alphab.append(str(i))\n",
    "        \n",
    "    frequencies = hist.tolist()\n",
    "    total = np.sum(np.array(frequencies))\n",
    "    frequencies = frequencies/total\n",
    "\n",
    "    pos = np.arange(len(alphab))\n",
    "    ax = plot.axes()\n",
    "    ax.set_xticks(pos)\n",
    "    ax.set_xticklabels(alphab)\n",
    "\n",
    "    plot.bar(pos, frequencies, color='r', edgecolor='black')\n",
    "    plot.show()"
   ]
  },
  {
   "cell_type": "code",
   "execution_count": 239,
   "id": "worth-absorption",
   "metadata": {},
   "outputs": [],
   "source": [
    "with open('dataCA.npy', 'rb') as f:\n",
    "    dataCA = np.load(f, allow_pickle=True)\n",
    "with open('dataCB.npy', 'rb') as f:\n",
    "    dataCB = np.load(f, allow_pickle=True)"
   ]
  },
  {
   "cell_type": "code",
   "execution_count": 248,
   "id": "sitting-friendship",
   "metadata": {},
   "outputs": [],
   "source": [
    "def bayesianEstimator(bsSpikes, stSpikes, umbral):\n",
    "    baselineProbs = []\n",
    "    stimulusProbs = []\n",
    "\n",
    "    for i in range(len(stSpikes)):\n",
    "        if i == 4:\n",
    "            if stSpikes[i] != 0:\n",
    "                if stSpikes[i]/np.sum(stSpikes) >= umbral:\n",
    "                    #print(i)\n",
    "                    stimulusProbs.append(stSpikes[i] / np.sum(stSpikes))\n",
    "                    try:\n",
    "                        baselineProbs.append(bsSpikes[i] / np.sum(bsSpikes))\n",
    "                    except IndexError:\n",
    "                        baselineProbs.append(0)\n",
    "                    \n",
    "    #print(baselineProbs)\n",
    "    #print(stimulusProbs)\n",
    "    y = np.prod(stimulusProbs)\n",
    "    x = np.prod(baselineProbs)\n",
    "    #print(1-x/y)\n",
    "\n",
    "    return  1 -  x/y\n"
   ]
  },
  {
   "cell_type": "code",
   "execution_count": 237,
   "id": "faced-description",
   "metadata": {},
   "outputs": [],
   "source": [
    "def plotPcolor(dataC, dataW, umbral, xlen, ylen, despx, despy, title, filename):\n",
    "    Z = []\n",
    "    prev = dataW[0][0]\n",
    "    aux = []\n",
    "    for i in range(len(dataW)):\n",
    "        if dataW[i][0] == prev:\n",
    "            aux.append(bayesianEstimator(dataC[i][-1],dataW[i][-1], umbral))\n",
    "        else:\n",
    "            Z.append(aux)\n",
    "            aux = []\n",
    "            aux.append(bayesianEstimator(dataC[i][-1],dataW[i][-1], umbral))\n",
    "        prev = dataW[i][0]\n",
    "\n",
    "    Z.append(aux)\n",
    "    Z = np.array(Z)\n",
    "    Z[Z<0] = 0\n",
    "\n",
    "    dx, dy = despx, despy\n",
    "    y, x = np.mgrid[slice(despy, ylen + dy, dy),\n",
    "                    slice(0, xlen + dx, dx)]\n",
    "\n",
    "    levels = MaxNLocator(nbins=15).tick_values(Z.min(), Z.max())\n",
    "    cmap = plot.get_cmap('RdYlBu')\n",
    "    norm = BoundaryNorm(levels, ncolors=cmap.N, clip=True)\n",
    "\n",
    "    im = plot.pcolormesh(y, x, Z, cmap=cmap, norm=norm)\n",
    "    plot.colorbar(im)\n",
    "    plot.xlabel('Tamaño de ventana (T)')\n",
    "    plot.ylabel('Desplazamiento de ventana (p)')\n",
    "    plot.title(title)\n",
    "\n",
    "\n",
    "\n",
    "    plot.tight_layout()\n",
    "    plot.savefig(filename, dpi=300)\n",
    "    plot.clf()\n",
    "    \n",
    "    return Z"
   ]
  },
  {
   "cell_type": "code",
   "execution_count": 249,
   "id": "adequate-prince",
   "metadata": {},
   "outputs": [
    {
     "data": {
      "text/plain": [
       "0.010863104903479439"
      ]
     },
     "execution_count": 249,
     "metadata": {},
     "output_type": "execute_result"
    },
    {
     "data": {
      "text/plain": [
       "<Figure size 432x288 with 0 Axes>"
      ]
     },
     "metadata": {},
     "output_type": "display_data"
    }
   ],
   "source": [
    "plotPcolor(dataCA, dataCB, 0.05, 50, 150, 5, 5, \"d=4 Baseline vs Baseline\", \"d4_BS_5pc.png\")\n",
    "#plotPcolor(dataC1, dataW1, 0.05, 50, 150, 5, 5, \"total Baseline vs Palabra 1\", \"dtotal_W1_5pc.png\")"
   ]
  },
  {
   "cell_type": "code",
   "execution_count": 23,
   "id": "lyric-evans",
   "metadata": {},
   "outputs": [],
   "source": [
    "with open('dataCA.npy', 'wb') as f:\n",
    "    np.save(f, np.array(dataCA, dtype=object))\n",
    "with open('dataCB.npy', 'wb') as f:\n",
    "    np.save(f, np.array(dataCB, dtype=object))\n",
    "with open('dataC1.npy', 'wb') as f:\n",
    "    np.save(f, np.array(dataC1, dtype=object))\n",
    "with open('dataW1.npy', 'wb') as f:\n",
    "    np.save(f, np.array(dataW1, dtype=object))\n",
    "with open('dataC11.npy', 'wb') as f:\n",
    "    np.save(f, np.array(dataC11, dtype=object))\n",
    "with open('dataW11.npy', 'wb') as f:\n",
    "    np.save(f, np.array(dataW11, dtype=object))"
   ]
  },
  {
   "cell_type": "code",
   "execution_count": 212,
   "id": "passive-darwin",
   "metadata": {},
   "outputs": [],
   "source": [
    "#with open('dataCA.npy', 'rb') as f:\n",
    "    #dataCA = np.load(f, allow_pickle=True)\n",
    "#with open('dataCB.npy', 'rb') as f:\n",
    "    #dataCB = np.load(f, allow_pickle=True)\n",
    "with open('dataC1.npy', 'rb') as f:\n",
    "    dataC1 = np.load(f, allow_pickle=True)\n",
    "with open('dataW1.npy', 'rb') as f:\n",
    "    dataW1 = np.load(f, allow_pickle=True)\n",
    "with open('dataC11.npy', 'rb') as f:\n",
    "    dataC11 = np.load(f, allow_pickle=True)\n",
    "with open('dataW11.npy', 'rb') as f:\n",
    "    dataW11 = np.load(f, allow_pickle=True)"
   ]
  },
  {
   "cell_type": "code",
   "execution_count": 18,
   "id": "purple-sword",
   "metadata": {},
   "outputs": [
    {
     "data": {
      "text/plain": [
       "<Figure size 432x288 with 0 Axes>"
      ]
     },
     "metadata": {},
     "output_type": "display_data"
    }
   ],
   "source": [
    "meanC = plotPcolor(dataCA, dataCB, 0.05, 50, 150, 5, 5, \"Baseline vs Baseline\", \"ge1_BSvsBS_5pc.png\")\n",
    "meanC1 = plotPcolor(dataC1, dataW1, 0.05, 50, 150, 5, 5, \"Baseline vs W1\", \"ge1_BSvsW1_5pc.png\")\n",
    "meanC11 = plotPcolor(dataC11, dataW11, 0.05, 50, 150, 5, 5, \"Baseline vs W11\", \"ge1_BSvsW11_5pc.png\")"
   ]
  },
  {
   "cell_type": "code",
   "execution_count": 13,
   "id": "compressed-samuel",
   "metadata": {},
   "outputs": [
    {
     "name": "stdout",
     "output_type": "stream",
     "text": [
      "0.10751100345334756\n"
     ]
    }
   ],
   "source": [
    "print(meanC1)"
   ]
  },
  {
   "cell_type": "code",
   "execution_count": 14,
   "id": "documentary-comfort",
   "metadata": {
    "collapsed": true,
    "jupyter": {
     "outputs_hidden": true
    }
   },
   "outputs": [
    {
     "name": "stdout",
     "output_type": "stream",
     "text": [
      "0.34366201525812534\n"
     ]
    }
   ],
   "source": [
    "print(meanC11)"
   ]
  },
  {
   "cell_type": "code",
   "execution_count": 220,
   "id": "fewer-chapel",
   "metadata": {},
   "outputs": [
    {
     "data": {
      "image/png": "[encoded data removed]",
      "text/plain": [
       "<Figure size 432x288 with 1 Axes>"
      ]
     },
     "metadata": {
      "needs_background": "light"
     },
     "output_type": "display_data"
    },
    {
     "data": {
      "image/png": "[encoded data removed]",
      "text/plain": [
       "<Figure size 432x288 with 1 Axes>"
      ]
     },
     "metadata": {
      "needs_background": "light"
     },
     "output_type": "display_data"
    }
   ],
   "source": [
    "printHist(getHist(dataC11, 140, 45))\n",
    "printHist(getHist(dataW11, 140, 45))\n",
    "#bayesianEstimator(getHist(dataC11, 140, 30), getHist(dataW11, 140, 30), 0.05)"
   ]
  },
  {
   "cell_type": "code",
   "execution_count": null,
   "id": "different-alert",
   "metadata": {},
   "outputs": [],
   "source": [
    "meanC = plotPcolor(dataCA, dataCB, 0.025, 50, 150, 5, 5, \"C vs C\", \"2p5percent_CvsC.png\")\n",
    "meanC1 = plotPcolor(dataC1, dataW1, 0.025, 50, 150, 5, 5, \"C1 vs W1\", \"2p5percent_C1vsW1.png\")\n",
    "meanC11 = plotPcolor(dataC11, dataW11, 0.025, 50, 150, 5, 5, \"C11 vs W11\", \"2p5percent_C11vsW11.png\")"
   ]
  },
  {
   "cell_type": "code",
   "execution_count": 32,
   "id": "defined-front",
   "metadata": {},
   "outputs": [
    {
     "data": {
      "text/plain": [
       "<Figure size 432x288 with 0 Axes>"
      ]
     },
     "metadata": {},
     "output_type": "display_data"
    },
    {
     "data": {
      "text/plain": [
       "<Figure size 432x288 with 0 Axes>"
      ]
     },
     "metadata": {},
     "output_type": "display_data"
    },
    {
     "data": {
      "text/plain": [
       "<Figure size 432x288 with 0 Axes>"
      ]
     },
     "metadata": {},
     "output_type": "display_data"
    }
   ],
   "source": [
    "meanC = plotPcolor(dataCA, dataCB, 0.025, 50, 150, 5, 5, \"C vs C\", \"S3plus_2p5percent_CvsC.png\")\n",
    "meanC1 = plotPcolor(dataC1, dataW1, 0.025, 50, 150, 5, 5, \"C1 vs W1\", \"S3plus_2p5percent_C1vsW1.png\")\n",
    "meanC11 = plotPcolor(dataC11, dataW11, 0.025, 50, 150, 5, 5, \"C11 vs W11\", \"S3plus_2p5percent_C11vsW11.png\")"
   ]
  },
  {
   "cell_type": "code",
   "execution_count": 33,
   "id": "outer-acrobat",
   "metadata": {},
   "outputs": [
    {
     "name": "stdout",
     "output_type": "stream",
     "text": [
      "0.03899145966250683 0.03698684022538383 0.4229256116997552\n"
     ]
    }
   ],
   "source": [
    "print(meanC, meanC1, meanC11)"
   ]
  },
  {
   "cell_type": "code",
   "execution_count": 37,
   "id": "local-technique",
   "metadata": {},
   "outputs": [
    {
     "data": {
      "text/plain": [
       "<Figure size 432x288 with 0 Axes>"
      ]
     },
     "metadata": {},
     "output_type": "display_data"
    },
    {
     "data": {
      "text/plain": [
       "<Figure size 432x288 with 0 Axes>"
      ]
     },
     "metadata": {},
     "output_type": "display_data"
    },
    {
     "data": {
      "text/plain": [
       "<Figure size 432x288 with 0 Axes>"
      ]
     },
     "metadata": {},
     "output_type": "display_data"
    }
   ],
   "source": [
    "#meanC = plotPcolor(dataCA, dataCB, 0.05, 50, 150, 5, 5, \"C vs C\", \"S1_5percent_CvsC.png\")\n",
    "meanC1 = plotPcolor(dataC1, dataW1, 0.05, 50, 150, 5, 5, \"C1 vs W1\", \"S1_5percent_C1vsW1.png\")\n",
    "#meanC11 = plotPcolor(dataC11, dataW11, 0.05, 50, 150, 5, 5, \"C11 vs W11\", \"S1_5percent_C11vsW11.png\")"
   ]
  },
  {
   "cell_type": "code",
   "execution_count": 23,
   "id": "eight-scope",
   "metadata": {},
   "outputs": [],
   "source": [
    "def plotPcolorNoneg(dataC, dataW, umbral, xlen, ylen, despx, despy, title, filename):\n",
    "    Z = []\n",
    "    prev = dataW[0][0]\n",
    "    aux = []\n",
    "    for i in range(len(dataW)):\n",
    "        if dataW[i][0] == prev:\n",
    "            aux.append(bayesianEstimator(dataC[i][-1],dataW[i][-1], umbral))\n",
    "        else:\n",
    "            Z.append(aux)\n",
    "            aux = []\n",
    "            aux.append(bayesianEstimator(dataC[i][-1],dataW[i][-1], umbral))\n",
    "        prev = dataW[i][0]\n",
    "\n",
    "    Z.append(aux)\n",
    "    Z = np.array(Z)\n",
    "\n",
    "    dx, dy = despx, despy\n",
    "    y, x = np.mgrid[slice(despy, ylen + dy, dy),\n",
    "                    slice(0, xlen + dx, dx)]\n",
    "    \n",
    "    Z2 = Z.clip(min=0)\n",
    "\n",
    "    levels = MaxNLocator(nbins=15).tick_values(Z2.min(), Z2.max())\n",
    "    cmap = plot.get_cmap('RdYlBu')\n",
    "    norm = BoundaryNorm(levels, ncolors=cmap.N, clip=True)\n",
    "\n",
    "    fig, (ax0, ax1) = plot.subplots(nrows=2)\n",
    "\n",
    "    im = ax0.pcolormesh(y, x, Z2, cmap=cmap, norm=norm)\n",
    "    fig.colorbar(im, ax=ax0)\n",
    "    ax0.set_title(title)\n",
    "    \n",
    "    levels = MaxNLocator(nbins=15).tick_values(Z.min(), Z.max())\n",
    "    cmap = plot.get_cmap('RdYlBu')\n",
    "    norm = BoundaryNorm(levels, ncolors=cmap.N, clip=True)\n",
    "\n",
    "    im2 = ax1.pcolormesh(y, x, Z, cmap=cmap, norm=norm)\n",
    "    fig.colorbar(im2, ax=ax1)\n",
    "    ax1.set_title(title + 'with negatives')\n",
    "\n",
    "\n",
    "\n",
    "    fig.tight_layout()\n",
    "    plot.savefig(filename, dpi=300)\n",
    "    plot.clf()\n",
    "    \n",
    "    return np.mean(Z)"
   ]
  },
  {
   "cell_type": "code",
   "execution_count": 56,
   "id": "theoretical-alignment",
   "metadata": {},
   "outputs": [
    {
     "data": {
      "text/plain": [
       "<Figure size 432x288 with 0 Axes>"
      ]
     },
     "metadata": {},
     "output_type": "display_data"
    },
    {
     "data": {
      "text/plain": [
       "<Figure size 432x288 with 0 Axes>"
      ]
     },
     "metadata": {},
     "output_type": "display_data"
    },
    {
     "data": {
      "text/plain": [
       "<Figure size 432x288 with 0 Axes>"
      ]
     },
     "metadata": {},
     "output_type": "display_data"
    },
    {
     "data": {
      "text/plain": [
       "<Figure size 432x288 with 0 Axes>"
      ]
     },
     "metadata": {},
     "output_type": "display_data"
    },
    {
     "data": {
      "text/plain": [
       "<Figure size 432x288 with 0 Axes>"
      ]
     },
     "metadata": {},
     "output_type": "display_data"
    },
    {
     "data": {
      "text/plain": [
       "<Figure size 432x288 with 0 Axes>"
      ]
     },
     "metadata": {},
     "output_type": "display_data"
    },
    {
     "data": {
      "text/plain": [
       "<Figure size 432x288 with 0 Axes>"
      ]
     },
     "metadata": {},
     "output_type": "display_data"
    },
    {
     "data": {
      "text/plain": [
       "<Figure size 432x288 with 0 Axes>"
      ]
     },
     "metadata": {},
     "output_type": "display_data"
    },
    {
     "data": {
      "text/plain": [
       "<Figure size 432x288 with 0 Axes>"
      ]
     },
     "metadata": {},
     "output_type": "display_data"
    }
   ],
   "source": [
    "meanC = plotPcolorNoneg(dataCA, dataCB, 0.1, 50, 150, 5, 5, \"3S C vs C\", \"S3_10percent_CvsC.png\")\n",
    "meanC1 = plotPcolorNoneg(dataC1, dataW1, 0.1, 50, 150, 5, 5, \"3S C1 vs W1\", \"S3_10percent_C1vsW1.png\")\n",
    "meanC11 = plotPcolorNoneg(dataC11, dataW11, 0.1, 50, 150, 5, 5, \"3S C11 vs W11\", \"S3_10percent_C11vsW11.png\")\n",
    "meanC = plotPcolorNoneg(dataCA, dataCB, 0.01, 50, 150, 5, 5, \"3S C vs C\", \"S3_01percent_CvsC.png\")\n",
    "meanC1 = plotPcolorNoneg(dataC1, dataW1, 0.01, 50, 150, 5, 5, \"3S C1 vs W1\", \"S3_01percent_C1vsW1.png\")\n",
    "meanC11 = plotPcolorNoneg(dataC11, dataW11, 0.01, 50, 150, 5, 5, \"3S C11 vs W11\", \"S3_01percent_C11vsW11.png\")\n",
    "meanC = plotPcolorNoneg(dataCA, dataCB, 0, 50, 150, 5, 5, \"3S C vs C\", \"S3_05percent_CvsC.png\")\n",
    "meanC1 = plotPcolorNoneg(dataC1, dataW1, 0, 50, 150, 5, 5, \"3S C1 vs W1\", \"S3_05percent_C1vsW1.png\")\n",
    "meanC11 = plotPcolorNoneg(dataC11, dataW11, 0, 50, 150, 5, 5, \"3S C11 vs W11\", \"S3_05percent_C11vsW11.png\")"
   ]
  },
  {
   "cell_type": "code",
   "execution_count": 33,
   "id": "oriented-basis",
   "metadata": {},
   "outputs": [
    {
     "data": {
      "text/plain": [
       "<Figure size 432x288 with 0 Axes>"
      ]
     },
     "metadata": {},
     "output_type": "display_data"
    }
   ],
   "source": [
    "meanC = plotPcolor(dataCA, dataCB, 0.05, 50, 150, 5, 5, \"ge1 Baseline vs Baseline\", \"ge1_CvsC.png\")\n",
    "meanC1 = plotPcolor(dataC1, dataW1, 0.05, 50, 150, 5, 5, \"ge1 Baseline vs Palabra 1\", \"ge1_C1vsW1.png\")\n",
    "meanC11 = plotPcolor(dataC11, dataW11, 0.05, 50, 150, 5, 5, \"ge1 Baseline vs Palabra 11\", \"ge1_C11vsW11.png\")"
   ]
  },
  {
   "cell_type": "code",
   "execution_count": 3,
   "id": "strange-briefing",
   "metadata": {},
   "outputs": [],
   "source": [
    "impC11 = np.loadtxt(\"Desktop/Pececillos/data/1_sin_60/C11.dat.impulseTimes\", delimiter=\" \")\n",
    "impW11 = np.loadtxt(\"Desktop/Pececillos/data/1_sin_60/W11_recortado.dat.impulseTimes\", delimiter=\" \")\n",
    "impC1 = np.loadtxt(\"Desktop/Pececillos/data/C1.dat.impulseTimes\", delimiter=\" \")\n",
    "impW1 = np.loadtxt(\"Desktop/Pececillos/data/W1.dat.impulseTimes\", delimiter=\" \")"
   ]
  },
  {
   "cell_type": "code",
   "execution_count": 56,
   "id": "returning-mattress",
   "metadata": {},
   "outputs": [],
   "source": [
    "spkC11 = np.loadtxt(\"Desktop/Pececillos/data/1_sin_60/C.dat.spkTimes\", delimiter=\" \")\n",
    "spkW11 = np.loadtxt(\"Desktop/Pececillos/data/1_sin_60/W11_recortado.dat.spkTimes\", delimiter=\" \")\n",
    "spkC1 = np.loadtxt(\"Desktop/Pececillos/data/C.dat.spkTimes\", delimiter=\" \")\n",
    "spkW1 = np.loadtxt(\"Desktop/Pececillos/data/W1.dat.spkTimes\", delimiter=\" \")"
   ]
  },
  {
   "cell_type": "code",
   "execution_count": 354,
   "id": "short-absorption",
   "metadata": {},
   "outputs": [],
   "source": [
    "def getISI(imp):\n",
    "    diffs = np.ediff1d(imp)\n",
    "    dif = []\n",
    "    for el in diffs:\n",
    "        if el < 500:\n",
    "            dif.append(el)\n",
    "    return dif"
   ]
  },
  {
   "cell_type": "code",
   "execution_count": 58,
   "id": "medieval-entertainment",
   "metadata": {},
   "outputs": [],
   "source": [
    "isiC11 = getISI(spkC11)\n",
    "isiW11 = getISI(spkW11)\n",
    "isiC1 = getISI(spkC1)\n",
    "isiW1 = getISI(spkW1)"
   ]
  },
  {
   "cell_type": "code",
   "execution_count": 355,
   "id": "quiet-certificate",
   "metadata": {},
   "outputs": [],
   "source": [
    "def plotISIhist(isiC, isiW, title, clabel, wlabel, filename):    \n",
    "    plot.hist(isiC, bins=100, alpha=0.5, density=True, stacked=True, ec='r', label=clabel, histtype='step')\n",
    "    plot.hist(isiW, bins=100, alpha=0.5, density=True, stacked=True, ec='b', label=wlabel, histtype='step')\n",
    "    plot.xlabel('ms')\n",
    "    plot.legend(loc='upper right')\n",
    "    plot.title(title)\n",
    "    plot.savefig(filename, dpi=300)\n",
    "    plot.clf()"
   ]
  },
  {
   "cell_type": "code",
   "execution_count": 356,
   "id": "humanitarian-heating",
   "metadata": {},
   "outputs": [
    {
     "data": {
      "text/plain": [
       "<Figure size 432x288 with 0 Axes>"
      ]
     },
     "metadata": {},
     "output_type": "display_data"
    }
   ],
   "source": [
    "plotISIhist(isiC1, isiW1, 'IPI', 'Baseline', 'Palabra 1', 'IPI_C1vsW1.png')\n",
    "plotISIhist(isiC11, isiW11, 'IPI', 'Baseline', 'Palabra 11', 'IPI_C11vsW11.png')"
   ]
  },
  {
   "cell_type": "code",
   "execution_count": 215,
   "id": "established-knock",
   "metadata": {},
   "outputs": [],
   "source": [
    "def bayesianEstimator(bsSpikes, stSpikes, umbral):\n",
    "    baselineProbs = []\n",
    "    stimulusProbs = []\n",
    "\n",
    "    for i in range(len(stSpikes)):\n",
    "        if i == 0:\n",
    "            if stSpikes[i] != 0:\n",
    "                if stSpikes[i]/np.sum(stSpikes) >= umbral:\n",
    "                    #print(i)\n",
    "                    stimulusProbs.append(stSpikes[i] / np.sum(stSpikes))\n",
    "                    try:\n",
    "                        baselineProbs.append(bsSpikes[i] / np.sum(bsSpikes))\n",
    "                    except IndexError:\n",
    "                        baselineProbs.append(0)\n",
    "                    \n",
    "    #print(baselineProbs)\n",
    "    #print(stimulusProbs)\n",
    "    y = np.prod(stimulusProbs)\n",
    "    x = np.prod(baselineProbs)\n",
    "    #print(1-x/y)\n",
    "\n",
    "    return  1 -  x/y"
   ]
  },
  {
   "cell_type": "code",
   "execution_count": 216,
   "id": "sustainable-warren",
   "metadata": {},
   "outputs": [
    {
     "data": {
      "text/plain": [
       "<Figure size 432x288 with 0 Axes>"
      ]
     },
     "metadata": {},
     "output_type": "display_data"
    }
   ],
   "source": [
    "#meanC = plotPcolor(dataCA, dataCB, 0, 50, 150, 5, 5, \"s=0 Baseline vs Baseline\", \"S0_CvsC.png\")\n",
    "meanC1 = plotPcolor(dataC1, dataW1, 0.05, 50, 150, 5, 5, \"s=0 Baseline vs Palabra 1\", \"PRUEBA_S0_C1vsW1.png\")\n",
    "meanC11 = plotPcolor(dataC11, dataW11, 0.05, 50, 150, 5, 5, \"s=0 Baseline vs Palabra 11\", \"PRUEBA_S0_C11vsW11.png\")"
   ]
  },
  {
   "cell_type": "code",
   "execution_count": 46,
   "id": "square-copying",
   "metadata": {},
   "outputs": [
    {
     "data": {
      "text/plain": [
       "<Figure size 432x288 with 0 Axes>"
      ]
     },
     "metadata": {},
     "output_type": "display_data"
    }
   ],
   "source": [
    "#meanC = plotPcolor(dataCA, dataCB, 0, 50, 150, 5, 5, \"s=1 Baseline vs Baseline\", \"S1_CvsC.png\")\n",
    "meanC1 = plotPcolor(dataC1, dataW1, 0, 50, 150, 5, 5, \"s=1 Baseline vs Palabra 1\", \"prueba2S1_C1vsW1.png\")\n",
    "#meanC11 = plotPcolor(dataC11, dataW11, 0, 50, 150, 5, 5, \"s=1 Baseline vs Palabra 11\", \"S1_C11vsW11.png\")"
   ]
  },
  {
   "cell_type": "code",
   "execution_count": 48,
   "id": "interior-cutting",
   "metadata": {},
   "outputs": [
    {
     "data": {
      "text/plain": [
       "<Figure size 432x288 with 0 Axes>"
      ]
     },
     "metadata": {},
     "output_type": "display_data"
    }
   ],
   "source": [
    "meanC = plotPcolor(dataCA, dataCB, 0, 50, 150, 5, 5, \"s=2aseline vs Baseline\", \"S2_CvsC.png\")\n",
    "meanC1 = plotPcolor(dataC1, dataW1, 0, 50, 150, 5, 5, \"s=2 Baseline vs Palabra 1\", \"S2_C1vsW1.png\")\n",
    "meanC11 = plotPcolor(dataC11, dataW11, 0, 50, 150, 5, 5, \"s=2 Baseline vs Palabra 11\", \"S2_C11vsW11.png\")"
   ]
  },
  {
   "cell_type": "code",
   "execution_count": 51,
   "id": "starting-desperate",
   "metadata": {},
   "outputs": [
    {
     "data": {
      "text/plain": [
       "<Figure size 432x288 with 0 Axes>"
      ]
     },
     "metadata": {},
     "output_type": "display_data"
    }
   ],
   "source": [
    "meanC = plotPcolor(dataCA, dataCB, 0, 50, 150, 5, 5, \"s=3 Baseline vs Baseline\", \"S3_CvsC.png\")\n",
    "meanC1 = plotPcolor(dataC1, dataW1, 0, 50, 150, 5, 5, \"s=3 Baseline vs Palabra 1\", \"S3_C1vsW1.png\")\n",
    "meanC11 = plotPcolor(dataC11, dataW11, 0, 50, 150, 5, 5, \"s=3 Baseline vs Palabra 11\", \"S3_C11vsW11.png\")"
   ]
  },
  {
   "cell_type": "code",
   "execution_count": 53,
   "id": "dress-geometry",
   "metadata": {},
   "outputs": [
    {
     "data": {
      "text/plain": [
       "<Figure size 432x288 with 0 Axes>"
      ]
     },
     "metadata": {},
     "output_type": "display_data"
    }
   ],
   "source": [
    "meanC = plotPcolor(dataCA, dataCB, 0, 50, 150, 5, 5, \"s=4 Baseline vs Baseline\", \"S4_CvsC.png\")\n",
    "meanC1 = plotPcolor(dataC1, dataW1, 0, 50, 150, 5, 5, \"s=4 Baseline vs Palabra 1\", \"S4_C1vsW1.png\")\n",
    "meanC11 = plotPcolor(dataC11, dataW11, 0, 50, 150, 5, 5, \"s=4 Baseline vs Palabra 11\", \"S4_C11vsW11.png\")"
   ]
  },
  {
   "cell_type": "code",
   "execution_count": 75,
   "id": "equal-algeria",
   "metadata": {},
   "outputs": [],
   "source": [
    "def loadDataSplit(spkfile, impfile):\n",
    "    dataCA = []\n",
    "    dataCB = []\n",
    "    spkC = np.loadtxt(spkfile, delimiter=\" \")\n",
    "    impC = np.loadtxt(impfile, delimiter=\" \")\n",
    "    for i in range(5, 151, 5):\n",
    "        print(\"Vuelta \" + str(i))\n",
    "        for j in range(0, 51, 5):\n",
    "            print(\"Subvuelta \" + str(j))\n",
    "            nspikesC = spikesPerBin(spkC, impC, i, j)\n",
    "            nsCA, nsCB = train_test_split(nspikesC, test_size = 0.50)\n",
    "            histA = np.bincount(nsCA)\n",
    "            histB = np.bincount(nsCB)\n",
    "            dataCA.append([i, j, histA])\n",
    "            dataCB.append([i, j, histB])\n",
    "    \n",
    "    return dataCA, dataCB\n",
    "\n",
    "        "
   ]
  },
  {
   "cell_type": "code",
   "execution_count": null,
   "id": "expressed-memory",
   "metadata": {},
   "outputs": [],
   "source": [
    "dataCA, dataCB = loadDataSplit(\"Desktop/Pececillos/data/1_sin_60/C.dat.spkTimes\", \"Desktop/Pececillos/data/1_sin_60/C11.dat.impulseTimes\")\n",
    "dataCC, dataCD = loadDataSplit(\"Desktop/Pececillos/data/1_sin_60/C.dat.spkTimes\", \"Desktop/Pececillos/data/1_sin_60/C11.dat.impulseTimes\")\n",
    "dataCE, dataCF = loadDataSplit(\"Desktop/Pececillos/data/1_sin_60/C.dat.spkTimes\", \"Desktop/Pececillos/data/1_sin_60/C11.dat.impulseTimes\")\n",
    "dataCG, dataCH = loadDataSplit(\"Desktop/Pececillos/data/1_sin_60/C.dat.spkTimes\", \"Desktop/Pececillos/data/1_sin_60/C11.dat.impulseTimes\")\n",
    "dataCI, dataCJ = loadDataSplit(\"Desktop/Pececillos/data/1_sin_60/C.dat.spkTimes\", \"Desktop/Pececillos/data/1_sin_60/C11.dat.impulseTimes\")"
   ]
  },
  {
   "cell_type": "code",
   "execution_count": 211,
   "id": "opponent-batch",
   "metadata": {},
   "outputs": [],
   "source": [
    "with open('dataCA2.npy', 'wb') as f:\n",
    "    np.save(f, np.array(dataCA, dtype=object))\n",
    "with open('dataCB2.npy', 'wb') as f:\n",
    "    np.save(f, np.array(dataCB, dtype=object))\n",
    "with open('dataCC.npy', 'wb') as f:\n",
    "    np.save(f, np.array(dataCC, dtype=object))\n",
    "with open('dataCD.npy', 'wb') as f:\n",
    "    np.save(f, np.array(dataCD, dtype=object))\n",
    "with open('dataCE.npy', 'wb') as f:\n",
    "    np.save(f, np.array(dataCE, dtype=object))\n",
    "with open('dataCF.npy', 'wb') as f:\n",
    "    np.save(f, np.array(dataCF, dtype=object))\n",
    "with open('dataCG.npy', 'wb') as f:\n",
    "    np.save(f, np.array(dataCG, dtype=object))\n",
    "with open('dataCH.npy', 'wb') as f:\n",
    "    np.save(f, np.array(dataCH, dtype=object))\n",
    "with open('dataCI.npy', 'wb') as f:\n",
    "    np.save(f, np.array(dataCI, dtype=object))\n",
    "with open('dataCJ.npy', 'wb') as f:\n",
    "    np.save(f, np.array(dataCJ, dtype=object))"
   ]
  },
  {
   "cell_type": "code",
   "execution_count": null,
   "id": "hairy-dining",
   "metadata": {},
   "outputs": [],
   "source": [
    "with open('dataCA.npy', 'rb') as f:\n",
    "    dataCA = np.load(f, allow_pickle=True)\n",
    "with open('dataCB.npy', 'rb') as f:\n",
    "    dataCB = np.load(f, allow_pickle=True)\n",
    "with open('dataCA.npy', 'rb') as f:\n",
    "    dataCA = np.load(f, allow_pickle=True)\n",
    "with open('dataCB.npy', 'rb') as f:\n",
    "    dataCB = np.load(f, allow_pickle=True)\n",
    "with open('dataCA.npy', 'rb') as f:\n",
    "    dataCA = np.load(f, allow_pickle=True)\n",
    "with open('dataCB.npy', 'rb') as f:\n",
    "    dataCB = np.load(f, allow_pickle=True)\n",
    "with open('dataCA.npy', 'rb') as f:\n",
    "    dataCA = np.load(f, allow_pickle=True)\n",
    "with open('dataCB.npy', 'rb') as f:\n",
    "    dataCB = np.load(f, allow_pickle=True)\n",
    "with open('dataCA.npy', 'rb') as f:\n",
    "    dataCA = np.load(f, allow_pickle=True)\n",
    "with open('dataCB.npy', 'rb') as f:\n",
    "    dataCB = np.load(f, allow_pickle=True)"
   ]
  },
  {
   "cell_type": "code",
   "execution_count": 199,
   "id": "frozen-cleaners",
   "metadata": {},
   "outputs": [],
   "source": [
    "def getZvalues(dataC, dataW, umbral):\n",
    "    Z = []\n",
    "    prev = dataW[0][0]\n",
    "    aux = []\n",
    "    for i in range(len(dataW)):\n",
    "        if dataW[i][0] == prev:\n",
    "            aux.append(bayesianEstimator(dataC[i][-1],dataW[i][-1], umbral))\n",
    "        else:\n",
    "            Z.append(aux)\n",
    "            aux = []\n",
    "            aux.append(bayesianEstimator(dataC[i][-1],dataW[i][-1], umbral))\n",
    "        prev = dataW[i][0]\n",
    "    \n",
    "    Z.append(aux)\n",
    "    return np.array(Z)"
   ]
  },
  {
   "cell_type": "code",
   "execution_count": 200,
   "id": "interesting-eagle",
   "metadata": {},
   "outputs": [],
   "source": [
    "#s=0 values\n",
    "zA = getZvalues(dataCA, dataCB, 0.05)\n",
    "zB = getZvalues(dataCC, dataCD, 0.05)\n",
    "zC = getZvalues(dataCE, dataCF, 0.05)\n",
    "zD = getZvalues(dataCG, dataCH, 0.05)\n",
    "zE = getZvalues(dataCI, dataCJ, 0.05)"
   ]
  },
  {
   "cell_type": "code",
   "execution_count": 201,
   "id": "caroline-pencil",
   "metadata": {},
   "outputs": [],
   "source": [
    "zvalues = (zA + zB + zC + zD + zE)/5\n"
   ]
  },
  {
   "cell_type": "code",
   "execution_count": 202,
   "id": "reflected-sister",
   "metadata": {},
   "outputs": [],
   "source": [
    "def plotPcolor(Z, xlen, ylen, despx, despy, title, filename):\n",
    "    #Z2 = Z.clip(min=0)\n",
    "    Z[Z<0] = 0\n",
    "\n",
    "    dx, dy = despx, despy\n",
    "    y, x = np.mgrid[slice(despy, ylen + dy, dy),\n",
    "                    slice(0, xlen + dx, dx)]\n",
    "\n",
    "    levels = MaxNLocator(nbins=15).tick_values(Z.min(), Z.max())\n",
    "    cmap = plot.get_cmap('RdYlBu')\n",
    "    norm = BoundaryNorm(levels, ncolors=cmap.N, clip=True)\n",
    "\n",
    "    #fig, (ax0) = plot.subplots(nrows=1)\n",
    "\n",
    "    im = plot.pcolormesh(y, x, Z, cmap=cmap, norm=norm)\n",
    "    #fig.colorbar(im, ax=ax0)\n",
    "    plot.colorbar(im)\n",
    "    plot.xlabel('Tamaño de ventana (T)')\n",
    "    plot.ylabel('Desplazamiento de ventana (p)')\n",
    "    plot.title(title)\n",
    "\n",
    "\n",
    "\n",
    "    plot.tight_layout()\n",
    "    plot.savefig(filename, dpi=300)\n",
    "    plot.clf()\n",
    "    \n",
    "    return np.mean(Z)"
   ]
  },
  {
   "cell_type": "code",
   "execution_count": 203,
   "id": "handed-battery",
   "metadata": {},
   "outputs": [
    {
     "data": {
      "text/plain": [
       "0.0066665610957152375"
      ]
     },
     "execution_count": 203,
     "metadata": {},
     "output_type": "execute_result"
    },
    {
     "data": {
      "text/plain": [
       "<Figure size 432x288 with 0 Axes>"
      ]
     },
     "metadata": {},
     "output_type": "display_data"
    }
   ],
   "source": [
    "plotPcolor(zvalues, 50, 150, 5, 5, \"prueba Baseline vs Baseline\", \"mean4_prueba_CvsC.png\")"
   ]
  },
  {
   "cell_type": "code",
   "execution_count": 153,
   "id": "ideal-consortium",
   "metadata": {},
   "outputs": [],
   "source": [
    "rawData = np.loadtxt(\"Desktop/1_sin_60/19h53m19s-09-sep-2014.dat\", delimiter=\" \")"
   ]
  },
  {
   "cell_type": "code",
   "execution_count": 259,
   "id": "measured-dining",
   "metadata": {},
   "outputs": [
    {
     "data": {
      "image/png": "[encoded data removed]",
      "text/plain": [
       "<Figure size 432x288 with 1 Axes>"
      ]
     },
     "metadata": {
      "needs_background": "light"
     },
     "output_type": "display_data"
    }
   ],
   "source": [
    "plot.plot(rawData[20000:21000,3])\n",
    "plot.axvline(x=200, color='k', ls='--')\n",
    "plot.axvline(x=400, color='k', ls='--')\n",
    "plot.axvline(x=600, color='k', ls='--')\n",
    "plot.axvline(x=800, color='k', ls='--')\n",
    "plot.ylim([0,16])\n",
    "plot.savefig(\"protocolo2.png\", dpi=300)"
   ]
  },
  {
   "cell_type": "code",
   "execution_count": 174,
   "id": "physical-toolbox",
   "metadata": {},
   "outputs": [
    {
     "data": {
      "text/plain": [
       "<Figure size 432x288 with 0 Axes>"
      ]
     },
     "metadata": {},
     "output_type": "display_data"
    }
   ],
   "source": [
    "meanC11 = plotPcolor(dataC11, dataW11, 0.05, 50, 150, 5, 5, \"Baseline vs W11\", \"mean_prueba2_ge1_BSvsW11_5pc.png\")"
   ]
  },
  {
   "cell_type": "code",
   "execution_count": null,
   "id": "unlikely-tongue",
   "metadata": {},
   "outputs": [],
   "source": [
    "dataC1B = loadData(\"Desktop/Pececillos/data/1_sin_60/C.dat.spkTimes\", \"Desktop/Pececillos/data/1_sin_60/C1.dat.impulseTimes\", 50, 150, 5)\n",
    "dataW1B = loadData(\"Desktop/Pececillos/data/1_sin_60/W1.dat.spkTimes\", \"Desktop/Pececillos/data/1_sin_60/W1.dat.impulseTimes\", 50, 150, 5)"
   ]
  },
  {
   "cell_type": "code",
   "execution_count": 263,
   "id": "demanding-frame",
   "metadata": {},
   "outputs": [],
   "source": [
    "with open('dataC1B.npy', 'wb') as f:\n",
    "    np.save(f, np.array(dataC1B, dtype=object))\n",
    "with open('dataW1B.npy', 'wb') as f:\n",
    "    np.save(f, np.array(dataW1B, dtype=object))"
   ]
  },
  {
   "cell_type": "code",
   "execution_count": 379,
   "id": "infrared-italy",
   "metadata": {},
   "outputs": [],
   "source": [
    "def plotPcolorHist(dataC, dataW, umbral, xlen, ylen, despx, despy, title, filename):\n",
    "    Z = []\n",
    "    prev = dataW[0][0]\n",
    "    aux = []\n",
    "    for i in range(len(dataW)):\n",
    "        if dataW[i][0] == prev:\n",
    "            aux.append(bayesianEstimator(dataC[i][-1],dataW[i][-1], umbral))\n",
    "        else:\n",
    "            Z.append(aux)\n",
    "            aux = []\n",
    "            aux.append(bayesianEstimator(dataC[i][-1],dataW[i][-1], umbral))\n",
    "        prev = dataW[i][0]\n",
    "\n",
    "    Z.append(aux)\n",
    "    Z = np.array(Z)\n",
    "    Z[Z<0] = 0\n",
    "\n",
    "    dx, dy = despx, despy\n",
    "    y, x = np.mgrid[slice(despy, ylen + dy, dy),\n",
    "                    slice(0, xlen + dx, dx)]\n",
    "\n",
    "    levels = MaxNLocator(nbins=15).tick_values(Z.min(), Z.max())\n",
    "    cmap = plot.get_cmap('RdYlBu')\n",
    "    norm = BoundaryNorm(levels, ncolors=cmap.N, clip=True)\n",
    "    \n",
    "    fig, (ax0, ax1) = plot.subplots(1, 2)\n",
    "    fig.set_figwidth(8)\n",
    "    \n",
    "    im = ax0.pcolormesh(y, x, Z, cmap=cmap, norm=norm)\n",
    "    fig.colorbar(im, ax=ax0)\n",
    "    ax0.set_title(title)\n",
    "    ax0.set(xlabel='Tamaño de ventana (T)', ylabel='Desplazamiento de ventana (p)')\n",
    "\n",
    "    Z = Z[Z != 0].flatten()\n",
    "    sns.histplot(Z, element=\"bars\", stat=\"probability\", ax=ax1)\n",
    "    ax1.set_title('Histograma de respuestas')\n",
    "    ax1.set(ylabel='')\n",
    "\n",
    "    plot.tight_layout()\n",
    "    plot.savefig(filename, dpi=300)\n",
    "    plot.clf()\n",
    "    \n",
    "    return Z[np.argsort(Z)]"
   ]
  },
  {
   "cell_type": "code",
   "execution_count": 406,
   "id": "animal-bonus",
   "metadata": {},
   "outputs": [],
   "source": [
    "def bayesianEstimator(bsSpikes, stSpikes, umbral):\n",
    "    baselineProbs = []\n",
    "    stimulusProbs = []\n",
    "\n",
    "    for i in range(len(stSpikes)):\n",
    "        if i >= 0:\n",
    "            if stSpikes[i] != 0:\n",
    "                if stSpikes[i]/np.sum(stSpikes) >= umbral:\n",
    "                    #print(i)\n",
    "                    stimulusProbs.append(stSpikes[i] / np.sum(stSpikes))\n",
    "                    try:\n",
    "                        baselineProbs.append(bsSpikes[i] / np.sum(bsSpikes))\n",
    "                    except IndexError:\n",
    "                        baselineProbs.append(0)\n",
    "                    \n",
    "    #print(baselineProbs)\n",
    "    #print(stimulusProbs)\n",
    "    y = np.prod(stimulusProbs)\n",
    "    x = np.prod(baselineProbs)\n",
    "    #print(1-x/y)\n",
    "\n",
    "    return  1 -  x/y"
   ]
  },
  {
   "cell_type": "code",
   "execution_count": 407,
   "id": "medium-picking",
   "metadata": {},
   "outputs": [
    {
     "data": {
      "text/plain": [
       "<Figure size 576x288 with 0 Axes>"
      ]
     },
     "metadata": {},
     "output_type": "display_data"
    },
    {
     "data": {
      "text/plain": [
       "<Figure size 576x288 with 0 Axes>"
      ]
     },
     "metadata": {},
     "output_type": "display_data"
    },
    {
     "data": {
      "text/plain": [
       "<Figure size 576x288 with 0 Axes>"
      ]
     },
     "metadata": {},
     "output_type": "display_data"
    },
    {
     "data": {
      "text/plain": [
       "<Figure size 576x288 with 0 Axes>"
      ]
     },
     "metadata": {},
     "output_type": "display_data"
    }
   ],
   "source": [
    "C = plotPcolorHist(dataCA, dataCB, 0.05, 50, 150, 5, 5, \"total Baseline vs Baseline\", \"dtotal_BS_5pc.png\")\n",
    "W1= plotPcolorHist(dataC1, dataW1, 0.05, 50, 150, 5, 5, \"total Baseline vs Palabra 1\", \"dtotal_W1_5pc.png\")\n",
    "W1B = plotPcolorHist(dataC1B, dataW1B, 0.05, 50, 150, 5, 5, \"total Baseline vs Palabra 1\", \"dtotal_W1B_5pc.png\")\n",
    "W11 = plotPcolorHist(dataC11, dataW11, 0.05, 50, 150, 5, 5, \"total Baseline vs Palabra 11\", \"dtotal_W11_5pc.png\")"
   ]
  },
  {
   "cell_type": "code",
   "execution_count": 408,
   "id": "recognized-circulation",
   "metadata": {},
   "outputs": [
    {
     "name": "stdout",
     "output_type": "stream",
     "text": [
      "0.32014412994061137\n",
      "0.4615515048987097\n",
      "0.7317325297841617\n",
      "0.8294271670223281\n"
     ]
    }
   ],
   "source": [
    "print(np.mean(C[-5:]))\n",
    "print(np.mean(W1[-5:]))\n",
    "print(np.mean(W11[-5:]))\n",
    "print(np.mean(W1B[-5:]))"
   ]
  },
  {
   "cell_type": "code",
   "execution_count": 370,
   "id": "intermediate-authority",
   "metadata": {},
   "outputs": [],
   "source": [
    "spkC = np.loadtxt(\"Desktop/Pececillos/data/1_sin_60/W1.dat.spkTimes\", delimiter=\" \")\n",
    "spkW = np.loadtxt(\"Desktop/Pececillos/data/1_sin_60/W11_recortado.dat.spkTimes\", delimiter=\" \")"
   ]
  },
  {
   "cell_type": "code",
   "execution_count": 371,
   "id": "sensitive-spencer",
   "metadata": {},
   "outputs": [],
   "source": [
    "isiC1 = getISI(spkC)\n",
    "isiW1 = getISI(spkW)"
   ]
  },
  {
   "cell_type": "code",
   "execution_count": 372,
   "id": "oriental-conditions",
   "metadata": {},
   "outputs": [
    {
     "data": {
      "text/plain": [
       "<Figure size 432x288 with 0 Axes>"
      ]
     },
     "metadata": {},
     "output_type": "display_data"
    }
   ],
   "source": [
    "plotISIhist(isiC1, isiW1, 'IPI', 'Baseline', 'Palabra 1', 'F2IPI_C1vsW11111.png')"
   ]
  },
  {
   "cell_type": "code",
   "execution_count": 412,
   "id": "signal-cardiff",
   "metadata": {},
   "outputs": [],
   "source": [
    "def plotISIhist(isiC, isiW, isiW2, title, clabel, wlabel, w2label, filename):    \n",
    "    plot.hist(isiC, bins=100, alpha=0.5, density=True, stacked=True, ec='r', label=clabel, histtype='step')\n",
    "    plot.hist(isiW, bins=100, alpha=0.5, density=True, stacked=True, ec='b', label=wlabel, histtype='step')\n",
    "    plot.hist(isiW2, bins=100, alpha=0.5, density=True, stacked=True, ec='g', label=w2label, histtype='step')\n",
    "    plot.xlabel('ms')\n",
    "    plot.legend(loc='upper right')\n",
    "    plot.title(title)\n",
    "    plot.savefig(filename, dpi=300)\n",
    "    plot.clf()"
   ]
  },
  {
   "cell_type": "code",
   "execution_count": 410,
   "id": "universal-purple",
   "metadata": {},
   "outputs": [],
   "source": [
    "spkW2= np.loadtxt(\"Desktop/Pececillos/data/1_sin_60/W1.dat.spkTimes\", delimiter=\" \")\n",
    "spkW = np.loadtxt(\"Desktop/Pececillos/data/1_sin_60/W11_recortado.dat.spkTimes\", delimiter=\" \")\n",
    "spkC = np.loadtxt(\"Desktop/Pececillos/data/1_sin_60/C.dat.spkTimes\", delimiter=\" \")"
   ]
  },
  {
   "cell_type": "code",
   "execution_count": 411,
   "id": "south-adjustment",
   "metadata": {},
   "outputs": [],
   "source": [
    "isiC1 = getISI(spkC)\n",
    "isiW1 = getISI(spkW2)\n",
    "isiW11 = getISI(spkW)"
   ]
  },
  {
   "cell_type": "code",
   "execution_count": 413,
   "id": "periodic-speed",
   "metadata": {},
   "outputs": [
    {
     "data": {
      "text/plain": [
       "<Figure size 432x288 with 0 Axes>"
      ]
     },
     "metadata": {},
     "output_type": "display_data"
    }
   ],
   "source": [
    "plotISIhist(isiC1, isiW11, isiW1, 'IPI', 'Baseline', 'Palabra 11', 'Palabra 1','F3IPI_C1vsW11111.png')"
   ]
  },
  {
   "cell_type": "code",
   "execution_count": null,
   "id": "therapeutic-filename",
   "metadata": {},
   "outputs": [],
   "source": []
  }
 ],
 "metadata": {
  "kernelspec": {
   "display_name": "Python 3",
   "language": "python",
   "name": "python3"
  },
  "language_info": {
   "codemirror_mode": {
    "name": "ipython",
    "version": 3
   },
   "file_extension": ".py",
   "mimetype": "text/x-python",
   "name": "python",
   "nbconvert_exporter": "python",
   "pygments_lexer": "ipython3",
   "version": "3.7.0"
  }
 },
 "nbformat": 4,
 "nbformat_minor": 5
}
